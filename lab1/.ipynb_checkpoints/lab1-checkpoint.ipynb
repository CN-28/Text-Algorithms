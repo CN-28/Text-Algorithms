{
 "cells": [
  {
   "cell_type": "markdown",
   "id": "0fc064ea",
   "metadata": {},
   "source": [
    "# Algorytmy wyszukiwania wzorca w tekście"
   ]
  },
  {
   "cell_type": "markdown",
   "id": "0eff8ded",
   "metadata": {},
   "source": [
    "## Algorytm naiwny"
   ]
  },
  {
   "cell_type": "code",
   "execution_count": 68,
   "id": "6f030bd6",
   "metadata": {},
   "outputs": [],
   "source": [
    "def naive_string_matching(text, pattern):\n",
    "    res = []\n",
    "    for s in range(len(text) - len(pattern) + 1):\n",
    "        if pattern == text[s : s + len(pattern)]:\n",
    "            res.append(s)\n",
    "    \n",
    "    return res"
   ]
  },
  {
   "cell_type": "markdown",
   "id": "5b708fd4",
   "metadata": {},
   "source": [
    "### Złożoności czasowe algorytmu naiwnego\n",
    "$n$ - długość tekstu, $m$ - długość wzorca\\\n",
    "Czas preprocessingu: 0\\\n",
    "Czas dopasowania: $O((n - m + 1) * m)$\\\n",
    "Całkowita złożoność czasowa algorytmu: $O((n - m + 1) * m)$"
   ]
  },
  {
   "cell_type": "markdown",
   "id": "481dfc83",
   "metadata": {},
   "source": [
    "## Algorytm automatu skończonego"
   ]
  },
  {
   "cell_type": "code",
   "execution_count": 72,
   "id": "11f88f53",
   "metadata": {},
   "outputs": [],
   "source": [
    "def fa_string_matching(text, pattern, delta = None):\n",
    "    if delta is None:\n",
    "        delta = transition_table(text, pattern)\n",
    "    q = 0\n",
    "    res = []\n",
    "    length = len(delta) - 1\n",
    "    for i in range(len(text)):\n",
    "        q = delta[q][text[i]]\n",
    "        if q == length:\n",
    "            res.append(i + 1 - q)\n",
    "    \n",
    "    return res"
   ]
  },
  {
   "cell_type": "markdown",
   "id": "def9b817",
   "metadata": {},
   "source": [
    "### Algorytm generujące tabelę przejść"
   ]
  },
  {
   "cell_type": "code",
   "execution_count": 84,
   "id": "d123db60",
   "metadata": {},
   "outputs": [],
   "source": [
    "def transition_table(text, pattern):\n",
    "    sigma = {}\n",
    "    for char in text:\n",
    "        sigma[char] = None\n",
    "        \n",
    "    res = []\n",
    "    for q in range(len(pattern) + 1):\n",
    "        res.append({})\n",
    "        for a in sigma:\n",
    "            k = min(len(pattern) + 1, q + 2)\n",
    "            while True:\n",
    "                k -= 1\n",
    "                if k == 0 or pattern[:k] == (pattern[:q] + a)[-k:]:\n",
    "                    break\n",
    "            res[q][a] = k\n",
    "            \n",
    "    return res"
   ]
  },
  {
   "cell_type": "markdown",
   "id": "efec31c1",
   "metadata": {},
   "source": [
    "## Złożoności czasowe algorytmu automatu skończonego\n",
    "$n$ - długość tekstu, $m$ - długość wzorca, $\\Sigma$ - alfabet, skończony zbiór znaków\\\n",
    "Czas preprocessingu: $O(m^3 * |\\Sigma|)$\\\n",
    "Czas dopasowania: $O(n)$\\\n",
    "Całkowita złożoność czasowa algorytmu: $O(n + m^3 * |\\Sigma|)$"
   ]
  },
  {
   "cell_type": "markdown",
   "id": "eb7c735a",
   "metadata": {},
   "source": [
    "## Algorytm KMP"
   ]
  },
  {
   "cell_type": "code",
   "execution_count": 28,
   "id": "367ecaa4",
   "metadata": {},
   "outputs": [],
   "source": [
    "def kmp_string_matching(text, pattern, pi = None):\n",
    "    res = []\n",
    "    if pi is None:\n",
    "        pi = prefix_function(pattern)\n",
    "    q = 0\n",
    "    for i in range(len(text)):\n",
    "        while q > 0 and pattern[q] != text[i]:\n",
    "            q = pi[q - 1]\n",
    "        if pattern[q] == text[i]:\n",
    "            q = q + 1\n",
    "        if q == len(pattern):\n",
    "            res.append(i + 1 - q)\n",
    "            q = pi[q-1]\n",
    "    \n",
    "    return res"
   ]
  },
  {
   "cell_type": "markdown",
   "id": "a317f4f0",
   "metadata": {},
   "source": [
    "### Funkcja prefiksowa"
   ]
  },
  {
   "cell_type": "code",
   "execution_count": 8,
   "id": "b3529e61",
   "metadata": {},
   "outputs": [],
   "source": [
    "def prefix_function(pattern):\n",
    "    pi = [0]\n",
    "    k = 0\n",
    "    for q in range(1, len(pattern)):\n",
    "        while k > 0 and pattern[k] != pattern[q]:\n",
    "            k = pi[k - 1]\n",
    "        if pattern[k] == pattern[q]:\n",
    "            k += 1\n",
    "        pi.append(k)\n",
    "    return pi"
   ]
  },
  {
   "cell_type": "markdown",
   "id": "39d0cec8",
   "metadata": {},
   "source": [
    "## Złożoności obliczeniowe algorytmu KMP\n",
    "$n$ - długość tekstu, $m$ - długość wzorca\\\n",
    "Czas preprocessingu: $O(m)$\\\n",
    "Czas dopasowania: $O(n)$\\\n",
    "Całkowita złożoność czasowa algorytmu: $O(n + m), m \\leqslant n \\implies O(n + m) = O(n)$"
   ]
  },
  {
   "cell_type": "markdown",
   "id": "2a6f4acc",
   "metadata": {},
   "source": [
    "## Test cases"
   ]
  },
  {
   "cell_type": "code",
   "execution_count": 234,
   "id": "21e1f6ad",
   "metadata": {},
   "outputs": [],
   "source": [
    "tests = [[\"a\" * 100000, \"a\"], [\"abcdef\" * 1000, \"abcdef\" * 100], [\"aaaaaaaa\" * 800 + \"b\", \"aaaaaaaa\" * 400 + \"b\"],\n",
    "        [\"\\/*123./.\\.\" * 100000, \"123\"], [\"&\" * 250000, \"&\" * 10000]]"
   ]
  },
  {
   "cell_type": "markdown",
   "id": "a05f48d9",
   "metadata": {},
   "source": [
    "### Funkcja testująca"
   ]
  },
  {
   "cell_type": "code",
   "execution_count": 235,
   "id": "58490356",
   "metadata": {},
   "outputs": [],
   "source": [
    "from time import time\n",
    "import matplotlib.pyplot as plt\n",
    "import numpy as np\n",
    "\n",
    "def time_test(f, text, pattern, delta = None, pi = None):\n",
    "    start = time()\n",
    "    if pi is not None:\n",
    "        f(text, pattern, pi = pi)\n",
    "    elif delta is not None:\n",
    "        f(text, pattern, delta = delta)\n",
    "    else:\n",
    "        f(text, pattern)\n",
    "    \n",
    "    return round(time() - start, 5)\n",
    "    \n",
    "    \n",
    "tests_dict = {}\n",
    "for i in range(len(tests)):\n",
    "    tests_dict[f\"Test: {i + 1}\"] = []\n",
    "    \n",
    "for i, test in enumerate(tests):\n",
    "    text, pattern = test\n",
    "    tests_dict[f\"Test: {i + 1}\"].append(time_test(naive_string_matching, text, pattern))\n",
    "    tests_dict[f\"Test: {i + 1}\"].append(time_test(fa_string_matching, text, pattern))\n",
    "    tests_dict[f\"Test: {i + 1}\"].append(time_test(kmp_string_matching, text, pattern))"
   ]
  },
  {
   "cell_type": "markdown",
   "id": "52997396",
   "metadata": {},
   "source": [
    "### Test 1"
   ]
  },
  {
   "cell_type": "code",
   "execution_count": 250,
   "id": "990554b9",
   "metadata": {},
   "outputs": [
    {
     "name": "stdout",
     "output_type": "stream",
     "text": [
      "Naive: 0.025 s, FA: 0.03199 s, KMP: 0.04801 s\n"
     ]
    },
    {
     "data": {
      "image/png": "[encoded data removed]",
      "text/plain": [
       "<Figure size 432x288 with 1 Axes>"
      ]
     },
     "metadata": {
      "needs_background": "light"
     },
     "output_type": "display_data"
    }
   ],
   "source": [
    "print(f\"Naive: {tests_dict['Test: 1'][0]} s, FA: {tests_dict['Test: 1'][1]} s, KMP: {tests_dict['Test: 1'][2]} s\")\n",
    "plt.bar([0, 1, 2], tests_dict[\"Test: 1\"], align = \"center\")\n",
    "plt.xticks([0, 1, 2], (\"naive\", \"finite automata\", \"kmp\"))\n",
    "plt.show()"
   ]
  },
  {
   "cell_type": "markdown",
   "id": "b2aba777",
   "metadata": {},
   "source": [
    "Dane dla Testu 1: text = \"a\" * 100000, pattern = \"a\".\\\n",
    "Dla danych z tego testu w każdym z podanych algorytmów złożoność czasowa wynosi $O(n)$, ale jak możemy zauważyć algorytm naiwny okazał się najszybszy, dzięki temu, że jest on najprostszy, co przekłada się na mniejszą stałą czasową, która zanika w notacji Big O."
   ]
  },
  {
   "cell_type": "markdown",
   "id": "63b8a0c2",
   "metadata": {},
   "source": [
    "### Test 2"
   ]
  },
  {
   "cell_type": "code",
   "execution_count": 251,
   "id": "03dcc632",
   "metadata": {},
   "outputs": [
    {
     "name": "stdout",
     "output_type": "stream",
     "text": [
      "Naive: 0.00199 s, FA: 0.519 s, KMP: 0.003 s\n"
     ]
    },
    {
     "data": {
      "image/png": "[encoded data removed]",
      "text/plain": [
       "<Figure size 432x288 with 1 Axes>"
      ]
     },
     "metadata": {
      "needs_background": "light"
     },
     "output_type": "display_data"
    }
   ],
   "source": [
    "print(f\"Naive: {tests_dict['Test: 2'][0]} s, FA: {tests_dict['Test: 2'][1]} s, KMP: {tests_dict['Test: 2'][2]} s\")\n",
    "plt.bar([0, 1, 2], tests_dict[\"Test: 2\"], align = \"center\")\n",
    "plt.xticks([0, 1, 2], (\"naive\", \"finite automata\", \"kmp\"))\n",
    "plt.show()"
   ]
  },
  {
   "cell_type": "markdown",
   "id": "c29d0b79",
   "metadata": {},
   "source": [
    "Dane dla Testu 2: text = \"abcdef\" * 1000, pattern = \"abcdef\" * 100.\\\n",
    "W tym teście możemy zauważyć, że wzorzec jest stosunkowo duży w porównaniu do całego textu $\\approx 10 \\%$. Z tego powodu algorytm automatu skończonego w tym przypadku wykonuje się bardzo długo, gdyż znaczną większość tego czasu konsumuje czas preprocessingu, wynoszący $O(m^3 * |\\Sigma|)$."
   ]
  },
  {
   "cell_type": "markdown",
   "id": "3f6df261",
   "metadata": {},
   "source": [
    "### Test 3"
   ]
  },
  {
   "cell_type": "code",
   "execution_count": 252,
   "id": "2f760c05",
   "metadata": {},
   "outputs": [
    {
     "name": "stdout",
     "output_type": "stream",
     "text": [
      "Naive: 0.002 s, FA: 5.83801 s, KMP: 0.005 s\n"
     ]
    },
    {
     "data": {
      "image/png": "[encoded data removed]",
      "text/plain": [
       "<Figure size 432x288 with 1 Axes>"
      ]
     },
     "metadata": {
      "needs_background": "light"
     },
     "output_type": "display_data"
    }
   ],
   "source": [
    "print(f\"Naive: {tests_dict['Test: 3'][0]} s, FA: {tests_dict['Test: 3'][1]} s, KMP: {tests_dict['Test: 3'][2]} s\")\n",
    "plt.bar([0, 1, 2], tests_dict[\"Test: 3\"], align = \"center\")\n",
    "plt.xticks([0, 1, 2], (\"naive\", \"finite automata\", \"kmp\"))\n",
    "plt.show()"
   ]
  },
  {
   "cell_type": "markdown",
   "id": "66b88d9f",
   "metadata": {},
   "source": [
    "Dane dla Testu 3: text = \"aaaaaaaa\" * 800 + \"b\", pattern = \"aaaaaaaa\" * 400 + \"b\".\\\n",
    "Dla testu 3 możemy zauważayć taką samą zależność jak w przypadku testu 2. Porównajmy jednak wielkości różnic pomiędzy czasami wykonania z testu 2. W tym teście wzorzec ma długość $\\approx 50 \\%$ długości tekstu, a czas wykonania jest gorszy ponad 1000 razy od pozostałych algorytmów. Dla testu 2 $m \\approx 10 \\% * n$, co daje złożość czasową gorszą o ponad 100 razy."
   ]
  },
  {
   "cell_type": "markdown",
   "id": "69e114bb",
   "metadata": {},
   "source": [
    "### Test 4"
   ]
  },
  {
   "cell_type": "code",
   "execution_count": 253,
   "id": "8ab46421",
   "metadata": {},
   "outputs": [
    {
     "name": "stdout",
     "output_type": "stream",
     "text": [
      "Naive: 0.27999 s, FA: 0.222 s, KMP: 0.329 s\n"
     ]
    },
    {
     "data": {
      "image/png": "[encoded data removed]",
      "text/plain": [
       "<Figure size 432x288 with 1 Axes>"
      ]
     },
     "metadata": {
      "needs_background": "light"
     },
     "output_type": "display_data"
    }
   ],
   "source": [
    "print(f\"Naive: {tests_dict['Test: 4'][0]} s, FA: {tests_dict['Test: 4'][1]} s, KMP: {tests_dict['Test: 4'][2]} s\")\n",
    "plt.bar([0, 1, 2], tests_dict[\"Test: 4\"], align = \"center\")\n",
    "plt.xticks([0, 1, 2], (\"naive\", \"finite automata\", \"kmp\"))\n",
    "plt.show()"
   ]
  },
  {
   "cell_type": "markdown",
   "id": "ed3199b4",
   "metadata": {},
   "source": [
    "Dane dla Testu 4: text = \"\\/*123./.\\.\" * 100000, pattern = \"123\".\\\n",
    "W teście 4 widzimy, że dla stosunkowo krótkiego wzorca w porównaniu do głównego textu i małego alfabetu $|\\Sigma| = 7$ algorytm automatu skończonego wykonał się najszybicej, gdyż czas preprocessingu zajął mąłą cześć całkowitego czasu wykonania ze względu na ustalone parametry. Naiwny algorytm zajął porównalną ilość czasu, przy stosunkowo małych wartościach m algorytm ten jest linowy ze względu na długość tekstu. Algorytm KMP okazał się w tym przypadku najgorszy, prawdopodobnie ze względu na większą stałą czasową jaką jest obarczony ten algortym."
   ]
  },
  {
   "cell_type": "markdown",
   "id": "b4f69ab1",
   "metadata": {},
   "source": [
    "### Test 5"
   ]
  },
  {
   "cell_type": "code",
   "execution_count": 254,
   "id": "dc0b7f16",
   "metadata": {},
   "outputs": [
    {
     "name": "stdout",
     "output_type": "stream",
     "text": [
      "Naive: 0.26601 s, FA: 0.10699 s, KMP: 0.154 s\n"
     ]
    },
    {
     "data": {
      "image/png": "[encoded data removed]",
      "text/plain": [
       "<Figure size 432x288 with 1 Axes>"
      ]
     },
     "metadata": {
      "needs_background": "light"
     },
     "output_type": "display_data"
    }
   ],
   "source": [
    "print(f\"Naive: {tests_dict['Test: 5'][0]} s, FA: {tests_dict['Test: 5'][1]} s, KMP: {tests_dict['Test: 5'][2]} s\")\n",
    "plt.bar([0, 1, 2], tests_dict[\"Test: 5\"], align = \"center\")\n",
    "plt.xticks([0, 1, 2], (\"naive\", \"finite automata\", \"kmp\"))\n",
    "plt.show()"
   ]
  },
  {
   "cell_type": "markdown",
   "id": "e2008573",
   "metadata": {},
   "source": [
    "Dane dla Testu 5: text = \"&\" * 250000, pattern = \"&\" * 10000.\\\n",
    "Test 5 został tak zbudowany, aby pokazać sytuacje, w których algorytm naiwny zawodzi w porównaniu do reszty przedstawionych algorytmów. Dzieje się tak, gdyż prawie dla każdego znaku w tekście zostanie wykonanie porównanie napisów o długości wzorca, co znacznie pogarsza czas wykonania. Dla takich danych, czyli alfabetu złożonego z bardzo małej ilości znaków i stosunkowo krótkiego wzorca w porównaniu do tekstu najlepszym wyborem jest algorytm automatu skończonego."
   ]
  },
  {
   "cell_type": "markdown",
   "id": "d5f9e3f8",
   "metadata": {},
   "source": [
    "## Szukanie wzorca \"art\" w pierwszym pliku"
   ]
  },
  {
   "cell_type": "markdown",
   "id": "619375c1",
   "metadata": {},
   "source": [
    "### Otwieranie pliku"
   ]
  },
  {
   "cell_type": "code",
   "execution_count": 255,
   "id": "48af8610",
   "metadata": {},
   "outputs": [],
   "source": [
    "text1 = \"\"\n",
    "pattern1 = \"art\"\n",
    "with open(\"1997_714.txt\", \"r\", encoding=\"utf-8\") as f1:\n",
    "    text1 = f1.read()"
   ]
  },
  {
   "cell_type": "markdown",
   "id": "46593104",
   "metadata": {},
   "source": [
    "### Rysowanie wykresu"
   ]
  },
  {
   "cell_type": "code",
   "execution_count": 258,
   "id": "7f8fd24f",
   "metadata": {},
   "outputs": [
    {
     "name": "stdout",
     "output_type": "stream",
     "text": [
      "Naive: 0.059 s, FA: 0.047 s, KMP: 0.067 s\n"
     ]
    },
    {
     "data": {
      "image/png": "[encoded data removed]",
      "text/plain": [
       "<Figure size 432x288 with 1 Axes>"
      ]
     },
     "metadata": {
      "needs_background": "light"
     },
     "output_type": "display_data"
    }
   ],
   "source": [
    "results = [time_test(naive_string_matching, text1, pattern1), time_test(fa_string_matching, text1, pattern1), time_test(kmp_string_matching, text1, pattern1)]\n",
    "print(f\"Naive: {results[0]} s, FA: {results[1]} s, KMP: {results[2]} s\")\n",
    "plt.bar([0, 1, 2], results, align = \"center\")\n",
    "plt.xticks([0, 1, 2], (\"naive\", \"finite automata\", \"kmp\"))\n",
    "plt.show()"
   ]
  },
  {
   "cell_type": "markdown",
   "id": "b3b9f487",
   "metadata": {},
   "source": [
    "## Szukanie wzorca \"Ukraina\" w drugim pliku"
   ]
  },
  {
   "cell_type": "markdown",
   "id": "184eeb52",
   "metadata": {},
   "source": [
    "### Otwieranie pliku"
   ]
  },
  {
   "cell_type": "code",
   "execution_count": 259,
   "id": "258397ff",
   "metadata": {},
   "outputs": [],
   "source": [
    "text2 = \"\"\n",
    "pattern2 = \"Ukraina\"\n",
    "with open(\"passages-head.tsv\", \"r\", encoding=\"utf-8\") as f2:\n",
    "    text2 = f2.read()"
   ]
  },
  {
   "cell_type": "markdown",
   "id": "237a0343",
   "metadata": {},
   "source": [
    "### Rysowanie wykresu"
   ]
  },
  {
   "cell_type": "code",
   "execution_count": 261,
   "id": "6f72e041",
   "metadata": {},
   "outputs": [
    {
     "name": "stdout",
     "output_type": "stream",
     "text": [
      "Naive: 19.82413 s, FA: 15.678 s, KMP: 20.86699 s\n"
     ]
    },
    {
     "data": {
      "image/png": "[encoded data removed]",
      "text/plain": [
       "<Figure size 432x288 with 1 Axes>"
      ]
     },
     "metadata": {
      "needs_background": "light"
     },
     "output_type": "display_data"
    }
   ],
   "source": [
    "results = [time_test(naive_string_matching, text2, pattern2), time_test(fa_string_matching, text2, pattern2), time_test(kmp_string_matching, text2, pattern2)]\n",
    "print(f\"Naive: {results[0]} s, FA: {results[1]} s, KMP: {results[2]} s\")\n",
    "plt.bar([0, 1, 2], results, align = \"center\")\n",
    "plt.xticks([0, 1, 2], (\"naive\", \"finite automata\", \"kmp\"))\n",
    "plt.show()"
   ]
  },
  {
   "cell_type": "markdown",
   "id": "4cbbf57c",
   "metadata": {},
   "source": [
    "## Zaproponowany tekst oraz wzorzec dla którego zmierzony czas działania algorytmów 2 oraz 3 (uwzględniający tylko dopasowanie, bez pre-processingu) będzie co najmniej 5-krotnie krótszy niż dla algorytmu naiwnego."
   ]
  },
  {
   "cell_type": "code",
   "execution_count": 262,
   "id": "d1ed1755",
   "metadata": {
    "scrolled": true
   },
   "outputs": [
    {
     "name": "stdout",
     "output_type": "stream",
     "text": [
      "Naive: 1.438 s, FA: 0.062 s, KMP: 0.14299 s\n"
     ]
    },
    {
     "data": {
      "image/png": "[encoded data removed]",
      "text/plain": [
       "<Figure size 432x288 with 1 Axes>"
      ]
     },
     "metadata": {
      "needs_background": "light"
     },
     "output_type": "display_data"
    }
   ],
   "source": [
    "text3 = \"aaaaaaaaaaaaaaaaaaaaaaaaaaaa\" * 10000\n",
    "pattern3 = \"aaaaaaaaaaaaaaaaaaaaaaaaa\" * 5000\n",
    "\n",
    "results = [time_test(naive_string_matching, text3, pattern3), time_test(fa_string_matching, text3, pattern3, delta = transition_table(text3, pattern3)), time_test(kmp_string_matching, text3, pattern3, pi = prefix_function(pattern3))]\n",
    "print(f\"Naive: {results[0]} s, FA: {results[1]} s, KMP: {results[2]} s\")\n",
    "plt.bar([0, 1, 2], results, align = \"center\")\n",
    "plt.xticks([0, 1, 2], (\"naive\", \"finite automata\", \"kmp\"))\n",
    "plt.show()"
   ]
  },
  {
   "cell_type": "markdown",
   "id": "d0d215a2",
   "metadata": {},
   "source": [
    "## Zaproponowany wzorzec, dla którego zmierzony czas obliczenia tablicy przejścia automatu skończonego będzie co najmniej 5-krotnie dłuższy, niż czas potrzebny na utworzenie funkcji przejścia w algorytmie KMP."
   ]
  },
  {
   "cell_type": "code",
   "execution_count": 266,
   "id": "af5971ca",
   "metadata": {},
   "outputs": [
    {
     "name": "stdout",
     "output_type": "stream",
     "text": [
      "FA table: 3.826 s, Prefix f.: 0.001 s\n"
     ]
    },
    {
     "data": {
      "image/png": "[encoded data removed]",
      "text/plain": [
       "<Figure size 432x288 with 1 Axes>"
      ]
     },
     "metadata": {
      "needs_background": "light"
     },
     "output_type": "display_data"
    }
   ],
   "source": [
    "text4 = \"fauisehfiuasehfioahseifhaisoefiushfiafadfads\" * 25\n",
    "pattern4 = \"fauisehfiuasehfioahseifhaisoefiushfiafadfads\" * 25\n",
    "\n",
    "results = []\n",
    "start = time()\n",
    "transition_table(text4, pattern4)\n",
    "results.append(round(time() - start, 5))\n",
    "\n",
    "start = time()\n",
    "prefix_function(pattern4)\n",
    "results.append(round(time() - start, 5))\n",
    "\n",
    "\n",
    "print(f\"FA table: {results[0]} s, Prefix f.: {results[1]} s\")\n",
    "plt.bar([0, 1], results, align = \"center\")\n",
    "plt.xticks([0, 1], (\"FA table\", \"Prefix f.\"))\n",
    "plt.show()"
   ]
  }
 ],
 "metadata": {
  "kernelspec": {
   "display_name": "Python 3 (ipykernel)",
   "language": "python",
   "name": "python3"
  },
  "language_info": {
   "codemirror_mode": {
    "name": "ipython",
    "version": 3
   },
   "file_extension": ".py",
   "mimetype": "text/x-python",
   "name": "python",
   "nbconvert_exporter": "python",
   "pygments_lexer": "ipython3",
   "version": "3.9.7"
  }
 },
 "nbformat": 4,
 "nbformat_minor": 5
}
