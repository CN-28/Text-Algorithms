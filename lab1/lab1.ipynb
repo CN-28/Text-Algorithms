{
 "cells": [
  {
   "cell_type": "markdown",
   "id": "0eff8ded",
   "metadata": {},
   "source": [
    "## Naive algorithm"
   ]
  },
  {
   "cell_type": "code",
   "execution_count": 3,
   "id": "6f030bd6",
   "metadata": {},
   "outputs": [],
   "source": [
    "def naive_string_matching(text, pattern):\n",
    "    for s in range(0, len(text) - len(pattern) + 1):\n",
    "        if pattern == text[s : s + len(pattern)]:\n",
    "            print(f\"The shift {s} is correct\")"
   ]
  },
  {
   "cell_type": "code",
   "execution_count": 4,
   "id": "408a2731",
   "metadata": {},
   "outputs": [
    {
     "name": "stdout",
     "output_type": "stream",
     "text": [
      "The shift 5 is correct\n",
      "The shift 6 is correct\n",
      "The shift 7 is correct\n"
     ]
    }
   ],
   "source": [
    "naive_string_matching(\"abdabaaaabd\", \"aa\")"
   ]
  },
  {
   "cell_type": "markdown",
   "id": "481dfc83",
   "metadata": {},
   "source": [
    "## Finite automata algorithm"
   ]
  },
  {
   "cell_type": "code",
   "execution_count": 5,
   "id": "11f88f53",
   "metadata": {},
   "outputs": [],
   "source": [
    "def fa_string_matching(text, delta):\n",
    "    q = 0\n",
    "    length = len(delta) - 1\n",
    "    for i in range(len(text)):\n",
    "        q = delta[q][text[i]]\n",
    "        if q == length:\n",
    "            print(f\"The shift {i + 1 - q} is correct\")"
   ]
  },
  {
   "cell_type": "markdown",
   "id": "def9b817",
   "metadata": {},
   "source": [
    "### Transition table generating algorithm"
   ]
  },
  {
   "cell_type": "code",
   "execution_count": 30,
   "id": "d123db60",
   "metadata": {},
   "outputs": [],
   "source": [
    "def transition_table(pattern, sigma):\n",
    "    res = []\n",
    "    for q in range(len(pattern) + 1):\n",
    "        res.append({})\n",
    "        for a in sigma:\n",
    "            k = min(len(pattern) + 1, q + 2)\n",
    "            while True:\n",
    "                k -= 1\n",
    "                if k == 0 or pattern[:k] == (pattern[:q] + a)[-k:]:\n",
    "                    break\n",
    "            res[q][a] = k\n",
    "            \n",
    "    return res"
   ]
  },
  {
   "cell_type": "code",
   "execution_count": 26,
   "id": "81ea6d47",
   "metadata": {},
   "outputs": [
    {
     "name": "stdout",
     "output_type": "stream",
     "text": [
      "The shift 5 is correct\n",
      "The shift 6 is correct\n",
      "The shift 7 is correct\n"
     ]
    }
   ],
   "source": [
    "fa_string_matching(\"abdabaaaabd\", transition_table(\"aa\", [\"a\", \"b\", \"d\"]))"
   ]
  },
  {
   "cell_type": "markdown",
   "id": "eb7c735a",
   "metadata": {},
   "source": [
    "## KMP algorithm"
   ]
  },
  {
   "cell_type": "code",
   "execution_count": 35,
   "id": "367ecaa4",
   "metadata": {},
   "outputs": [],
   "source": [
    "def kmp_string_matching(text, pattern):\n",
    "    pi = prefix_function(pattern)\n",
    "    q = 0\n",
    "    for i in range(len(text)):\n",
    "        while q > 0 and pattern[q] != text[i]:\n",
    "            q = pi[q-1]\n",
    "        if pattern[q] == text[i]:\n",
    "            q = q + 1\n",
    "        if q == len(pattern):\n",
    "            print(f\"The shift {i + 1 - q} is correct\")\n",
    "            q = pi[q-1]"
   ]
  },
  {
   "cell_type": "markdown",
   "id": "a317f4f0",
   "metadata": {},
   "source": [
    "### Prefix function"
   ]
  },
  {
   "cell_type": "code",
   "execution_count": 33,
   "id": "b3529e61",
   "metadata": {},
   "outputs": [],
   "source": [
    "def prefix_function(pattern):\n",
    "    pi = [0]\n",
    "    k = 0\n",
    "    for q in range(1, len(pattern)):\n",
    "        while k > 0 and pattern[k] != pattern[q]:\n",
    "            k = pi[k - 1]\n",
    "        if pattern[k] == pattern[q]:\n",
    "            k += 1\n",
    "        pi.append(k)\n",
    "    return pi"
   ]
  },
  {
   "cell_type": "code",
   "execution_count": 36,
   "id": "985a16b6",
   "metadata": {},
   "outputs": [
    {
     "name": "stdout",
     "output_type": "stream",
     "text": [
      "The shift 5 is correct\n",
      "The shift 6 is correct\n",
      "The shift 7 is correct\n"
     ]
    }
   ],
   "source": [
    "kmp_string_matching(\"abdabaaaabd\", \"aa\")"
   ]
  }
 ],
 "metadata": {
  "kernelspec": {
   "display_name": "Python 3 (ipykernel)",
   "language": "python",
   "name": "python3"
  },
  "language_info": {
   "codemirror_mode": {
    "name": "ipython",
    "version": 3
   },
   "file_extension": ".py",
   "mimetype": "text/x-python",
   "name": "python",
   "nbconvert_exporter": "python",
   "pygments_lexer": "ipython3",
   "version": "3.9.7"
  }
 },
 "nbformat": 4,
 "nbformat_minor": 5
}
