{
 "cells": [
  {
   "cell_type": "markdown",
   "id": "aaf17572",
   "metadata": {},
   "source": [
    "## Naive algorithm"
   ]
  },
  {
   "cell_type": "code",
   "execution_count": 3,
   "id": "4b689709",
   "metadata": {},
   "outputs": [],
   "source": [
    "def naive_string_matching(text, pattern):\n",
    "    for s in range(0, len(text) - len(pattern) + 1):\n",
    "        if pattern == text[s : s + len(pattern)]:\n",
    "            print(f\"The shift {s} is correct\")"
   ]
  },
  {
   "cell_type": "code",
   "execution_count": 4,
   "id": "f297eaee",
   "metadata": {},
   "outputs": [
    {
     "name": "stdout",
     "output_type": "stream",
     "text": [
      "The shift 5 is correct\n",
      "The shift 6 is correct\n",
      "The shift 7 is correct\n"
     ]
    }
   ],
   "source": [
    "naive_string_matching(\"abdabaaaabd\", \"aa\")"
   ]
  },
  {
   "cell_type": "markdown",
   "id": "61f15b15",
   "metadata": {},
   "source": [
    "## Finite automata algorithm"
   ]
  },
  {
   "cell_type": "code",
   "execution_count": 5,
   "id": "c35506e8",
   "metadata": {},
   "outputs": [],
   "source": [
    "def fa_string_matching(text, delta):\n",
    "    q = 0\n",
    "    length = len(delta) - 1\n",
    "    for i in range(len(text)):\n",
    "        q = delta[q][text[i]]\n",
    "        if q == length:\n",
    "            print(f\"The shift {i + 1 - q} is correct\")"
   ]
  },
  {
   "cell_type": "markdown",
   "id": "505aef92",
   "metadata": {},
   "source": [
    "### Transition table generating algorithm"
   ]
  },
  {
   "cell_type": "code",
   "execution_count": 8,
   "id": "3a8c1650",
   "metadata": {},
   "outputs": [
    {
     "data": {
      "text/plain": [
       "[{'a': 1}, {'a': 2}, {'a': 2}]"
      ]
     },
     "execution_count": 8,
     "metadata": {},
     "output_type": "execute_result"
    }
   ],
   "source": [
    "def transition_table(pattern, sigma):\n",
    "    res = []\n",
    "    for q in range(len(pattern) + 1):\n",
    "        res.append({})\n",
    "        for a in sigma:\n",
    "            k = min(len(pattern) + 1, q + 2)\n",
    "            while True:\n",
    "                k -= 1\n",
    "                if k == 0 or pattern[:k] == (pattern[:q] + a)[-k:]:\n",
    "                    break\n",
    "            res[q][a] = k\n",
    "            \n",
    "    return res\n",
    "\n",
    "transition_table(\"aa\", [\"a\"])"
   ]
  },
  {
   "cell_type": "code",
   "execution_count": 12,
   "id": "dc0c9971",
   "metadata": {},
   "outputs": [
    {
     "name": "stdout",
     "output_type": "stream",
     "text": [
      "The shift 5 is correct\n",
      "The shift 6 is correct\n",
      "The shift 7 is correct\n"
     ]
    }
   ],
   "source": [
    "fa_string_matching(\"abdabaaaabd\", transition_table(\"aa\", [\"a\", \"b\", \"d\"]))"
   ]
  },
  {
   "cell_type": "markdown",
   "id": "42105cdc",
   "metadata": {},
   "source": []
  }
 ],
 "metadata": {
  "kernelspec": {
   "display_name": "Python 3 (ipykernel)",
   "language": "python",
   "name": "python3"
  },
  "language_info": {
   "codemirror_mode": {
    "name": "ipython",
    "version": 3
   },
   "file_extension": ".py",
   "mimetype": "text/x-python",
   "name": "python",
   "nbconvert_exporter": "python",
   "pygments_lexer": "ipython3",
   "version": "3.9.7"
  }
 },
 "nbformat": 4,
 "nbformat_minor": 5
}
