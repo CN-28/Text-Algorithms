{
 "cells": [
  {
   "cell_type": "markdown",
   "id": "4ff13e60-1a80-4ad8-bb06-1bc69392c51c",
   "metadata": {},
   "source": [
    "# Two-dimensional pattern matching"
   ]
  },
  {
   "cell_type": "markdown",
   "id": "f89739cd-f21f-468d-82c8-eab430f7dab2",
   "metadata": {},
   "source": [
    "## Aho-Corasick automaton"
   ]
  },
  {
   "cell_type": "code",
   "execution_count": 191,
   "id": "aa301ecf-eb9d-4a17-866e-82488dbfb3a6",
   "metadata": {},
   "outputs": [],
   "source": [
    "# literature on which my implementation of Aho-Corasick automaton is based: http://web.stanford.edu/class/archive/cs/cs166/cs166.1166/lectures/02/Slides02.pdf\n",
    "from collections import deque\n",
    "from PIL import Image\n",
    "import numpy as np\n",
    "import string\n",
    "\n",
    "class SMA:\n",
    "    occurrence_pattern = []\n",
    "    def __init__(self, pattern):\n",
    "        SMANode.counter = 0\n",
    "        SMA.occurrence_pattern = []\n",
    "        self.root = SMANode()\n",
    "        self._build_trie_for_2D(pattern)\n",
    "        self._build_sma()\n",
    "    \n",
    "    def _build_trie_for_2D(self, pattern):\n",
    "        for word in pattern:\n",
    "            self.root._insert(word)\n",
    "\n",
    "    def _build_sma(self):\n",
    "        queue = deque(self.root.children.values())\n",
    "\n",
    "        while queue:\n",
    "            node = queue.popleft()\n",
    "            \n",
    "            if node.parent == self.root:\n",
    "                node.suffix_link = self.root\n",
    "            else:\n",
    "                sfx_link = node.parent.suffix_link\n",
    "                while node.letter not in sfx_link.children and sfx_link != self.root:\n",
    "                    sfx_link = sfx_link.suffix_link\n",
    "                \n",
    "                node.suffix_link = sfx_link.children[node.letter] if node.letter in sfx_link.children else self.root\n",
    "            \n",
    "            node.output_link = node.suffix_link if node.suffix_link.terminal else node.suffix_link.output_link\n",
    "\n",
    "            queue.extend(node.children.values())\n",
    "\n",
    "            \n",
    "class SMANode:\n",
    "    counter = 0\n",
    "    def __init__(self, letter=\"root\", depth=0, parent=None):\n",
    "        self.children = {}\n",
    "        self.parent = parent\n",
    "        self.letter = letter\n",
    "        self.terminal = False\n",
    "        self.suffix_link = None\n",
    "        self.output_link = None\n",
    "        self.id = SMANode.counter\n",
    "        SMANode.counter += 1\n",
    "    \n",
    "    def _insert(self, pattern, i = 0):\n",
    "        if i < len(pattern):\n",
    "            if pattern[i] in self.children:\n",
    "                self.children[pattern[i]]._insert(pattern, i + 1)\n",
    "            else:\n",
    "                self.children[pattern[i]] = SMANode(pattern[i], i + 1, self)\n",
    "                self.children[pattern[i]]._insert(pattern, i + 1)\n",
    "        else:\n",
    "            self.terminal = True\n",
    "            SMA.occurrence_pattern.append(str(self.id))\n",
    "    \n",
    "    def __repr__(self):\n",
    "        return str(self.id)"
   ]
  },
  {
   "cell_type": "markdown",
   "id": "ba2e56a4-4fb3-4523-9822-05bacb73e2eb",
   "metadata": {},
   "source": [
    "Above implementation of Aho-Corasick algorithm is based on suffix links and output links.\\\n",
    "Overall complexities for costructing automaton:\n",
    "- Time complexity: $ O(M) $, where $M$ is the sum of lengths of the patterns,\n",
    "- Space complexity: $ O(statesize(Trie)) $"
   ]
  },
  {
   "cell_type": "markdown",
   "id": "0b180487-6192-4fe0-b3e5-15d0972d8a20",
   "metadata": {},
   "source": [
    "## 2D pattern matching"
   ]
  },
  {
   "cell_type": "code",
   "execution_count": 190,
   "id": "747fed66-1c8b-4351-9c49-0ad1f8833f76",
   "metadata": {},
   "outputs": [],
   "source": [
    "def find_2d_pattern(text, pattern, print_matching = True, sma = None):\n",
    "    n = len(text)\n",
    "    if sma is None:\n",
    "        sma = SMA(pattern)\n",
    "    \n",
    "    max_line_len = max([len(line) for line in text])\n",
    "    states_arr = [[\"\"] * max_line_len for _ in range(n)]\n",
    "    for j in range(max_line_len):\n",
    "        node = sma.root\n",
    "        for i in range(n):\n",
    "            # handling the case when lines of text are different length\n",
    "            if j >= len(text[i]):\n",
    "                node = sma.root\n",
    "                continue\n",
    "            \n",
    "            while text[i][j] not in node.children and node != sma.root:\n",
    "                node = node.suffix_link\n",
    "            \n",
    "            \n",
    "            if text[i][j] in node.children:\n",
    "                node = node.children[text[i][j]]\n",
    "\n",
    "            states_arr[i][j] = str(node.id)\n",
    "    \n",
    "    res = []\n",
    "    found = False\n",
    "    for i, line in enumerate(states_arr):\n",
    "        temp = kmp_string_matching(line, SMA.occurrence_pattern)\n",
    "        for ind in temp:\n",
    "            found = True\n",
    "            if print_matching:\n",
    "                print(f\"The pattern ends in the line: {i + 1} at index: {ind}\")\n",
    "            res.append((i, ind))\n",
    "    if not found and print_matching:\n",
    "        print(\"There is no such pattern in the text!\")\n",
    "        print()\n",
    "\n",
    "    return states_arr, res\n",
    "      \n",
    "def kmp_string_matching(text, pattern, pi = None):\n",
    "    res = []\n",
    "    if pi is None:\n",
    "        pi = prefix_function(pattern)\n",
    "        \n",
    "    q = 0\n",
    "    for i in range(len(text)):\n",
    "        while q > 0 and pattern[q] != text[i]:\n",
    "            q = pi[q - 1]\n",
    "        if pattern[q] == text[i]:\n",
    "            q = q + 1\n",
    "        if q == len(pattern):\n",
    "            res.append(i + 1 - q)\n",
    "            q = pi[q - 1]\n",
    "    \n",
    "    return res    \n",
    "\n",
    "def prefix_function(pattern):\n",
    "    pi = [0]\n",
    "    k = 0\n",
    "    for q in range(1, len(pattern)):\n",
    "        while k > 0 and pattern[k] != pattern[q]:\n",
    "            k = pi[k - 1]\n",
    "        if pattern[k] == pattern[q]:\n",
    "            k += 1\n",
    "        pi.append(k)\n",
    "        \n",
    "    return pi"
   ]
  },
  {
   "cell_type": "markdown",
   "id": "e0ef09b3-9a18-442e-a05e-54a3a4a4390f",
   "metadata": {},
   "source": [
    "Time complexity of searching for 2D pattern is $ O(N) $, where N is the length of the text, hence adding the time complexity of\\\n",
    "constructing automaton the overall time complexity is $ O(N + M) $."
   ]
  },
  {
   "cell_type": "markdown",
   "id": "441f5d9e-9da1-4c0c-a8b1-d2d720ffc0db",
   "metadata": {},
   "source": [
    "## Find all occurrences when some letter occurs in the two consecutive lines"
   ]
  },
  {
   "cell_type": "code",
   "execution_count": 277,
   "id": "4e25a564-330d-4f69-8d20-0921e4c7ded8",
   "metadata": {},
   "outputs": [
    {
     "name": "stdout",
     "output_type": "stream",
     "text": [
      "All occurrences of same letter in two consecutive lines\n",
      "letter: 'o', start line: 1, index: 0\n",
      "letter: 't', start line: 1, index: 7\n",
      "letter: 't', start line: 1, index: 18\n",
      "letter: 'e', start line: 1, index: 63\n",
      "letter: 'a', start line: 1, index: 82\n",
      "letter: 'n', start line: 1, index: 83\n",
      "letter: 'w', start line: 2, index: 3\n",
      "letter: 'r', start line: 2, index: 4\n",
      "letter: 'i', start line: 2, index: 5\n",
      "letter: 't', start line: 2, index: 6\n",
      "letter: 't', start line: 2, index: 7\n",
      "letter: 'e', start line: 2, index: 8\n",
      "letter: 'n', start line: 2, index: 9\n",
      "letter: 'a', start line: 4, index: 30\n",
      "letter: 't', start line: 4, index: 37\n",
      "letter: 'c', start line: 4, index: 54\n",
      "letter: 's', start line: 4, index: 57\n",
      "letter: 's', start line: 4, index: 63\n",
      "letter: 't', start line: 5, index: 14\n",
      "letter: 't', start line: 5, index: 23\n",
      "letter: 's', start line: 5, index: 49\n",
      "letter: 'o', start line: 5, index: 75\n",
      "letter: 'e', start line: 5, index: 77\n",
      "letter: 'a', start line: 6, index: 60\n",
      "letter: 'o', start line: 6, index: 66\n",
      "letter: 'o', start line: 7, index: 38\n",
      "letter: 'r', start line: 7, index: 39\n",
      "letter: 'r', start line: 7, index: 50\n",
      "letter: 'a', start line: 7, index: 63\n",
      "letter: 'r', start line: 8, index: 13\n",
      "letter: 't', start line: 8, index: 29\n",
      "letter: 'o', start line: 8, index: 38\n",
      "letter: 'e', start line: 8, index: 65\n",
      "letter: 's', start line: 9, index: 21\n",
      "letter: 'i', start line: 9, index: 37\n",
      "letter: 't', start line: 9, index: 75\n",
      "letter: 's', start line: 10, index: 58\n",
      "letter: 'i', start line: 10, index: 60\n",
      "letter: 'e', start line: 11, index: 1\n",
      "letter: 'o', start line: 11, index: 27\n",
      "letter: 'c', start line: 11, index: 45\n",
      "letter: 'e', start line: 11, index: 64\n",
      "letter: 'c', start line: 14, index: 10\n",
      "letter: 't', start line: 14, index: 55\n",
      "letter: 'e', start line: 15, index: 2\n",
      "letter: 'n', start line: 15, index: 54\n",
      "letter: 't', start line: 16, index: 12\n",
      "letter: 'r', start line: 16, index: 18\n",
      "letter: 'e', start line: 16, index: 43\n",
      "letter: 'o', start line: 16, index: 60\n",
      "letter: 't', start line: 17, index: 3\n",
      "letter: 'm', start line: 17, index: 5\n",
      "letter: 'e', start line: 18, index: 6\n",
      "letter: 'r', start line: 18, index: 14\n",
      "letter: 'e', start line: 19, index: 27\n",
      "letter: 't', start line: 20, index: 33\n",
      "letter: 'n', start line: 20, index: 37\n",
      "letter: 'm', start line: 20, index: 46\n",
      "letter: 'r', start line: 20, index: 54\n",
      "letter: 'i', start line: 20, index: 55\n",
      "letter: 'a', start line: 21, index: 6\n",
      "letter: 'e', start line: 21, index: 10\n",
      "letter: 'r', start line: 21, index: 54\n",
      "letter: 'n', start line: 21, index: 56\n",
      "letter: 'e', start line: 22, index: 61\n",
      "letter: 'n', start line: 22, index: 62\n",
      "letter: 'w', start line: 22, index: 70\n",
      "letter: 't', start line: 23, index: 8\n",
      "letter: 'e', start line: 23, index: 53\n",
      "letter: 't', start line: 24, index: 4\n",
      "letter: 'e', start line: 25, index: 3\n",
      "letter: 't', start line: 25, index: 4\n",
      "letter: 'e', start line: 25, index: 65\n",
      "letter: 't', start line: 28, index: 0\n",
      "letter: 'h', start line: 28, index: 2\n",
      "letter: 'o', start line: 28, index: 17\n",
      "letter: 't', start line: 28, index: 31\n",
      "letter: 'o', start line: 29, index: 17\n",
      "letter: 't', start line: 29, index: 23\n",
      "letter: 's', start line: 29, index: 45\n",
      "letter: 't', start line: 29, index: 52\n",
      "letter: 'r', start line: 29, index: 65\n",
      "letter: 'e', start line: 29, index: 67\n",
      "letter: 'x', start line: 29, index: 68\n",
      "letter: 'a', start line: 29, index: 69\n",
      "letter: 'm', start line: 29, index: 70\n",
      "letter: 'p', start line: 29, index: 71\n",
      "letter: 'l', start line: 29, index: 72\n",
      "letter: 'e', start line: 29, index: 73\n",
      "letter: 'e', start line: 30, index: 38\n",
      "letter: 'e', start line: 30, index: 43\n",
      "letter: 's', start line: 30, index: 56\n",
      "letter: 't', start line: 31, index: 16\n",
      "letter: 's', start line: 31, index: 56\n",
      "letter: 'o', start line: 31, index: 58\n",
      "letter: 'f', start line: 31, index: 59\n",
      "letter: 'i', start line: 32, index: 0\n",
      "letter: 'n', start line: 32, index: 1\n",
      "letter: 'i', start line: 32, index: 31\n",
      "letter: 'a', start line: 32, index: 50\n",
      "letter: 'r', start line: 32, index: 70\n",
      "letter: 'a', start line: 32, index: 73\n",
      "letter: 'o', start line: 33, index: 34\n",
      "letter: 'r', start line: 34, index: 10\n",
      "letter: 'o', start line: 34, index: 11\n",
      "letter: 'o', start line: 34, index: 26\n",
      "letter: 'r', start line: 34, index: 37\n",
      "letter: 'l', start line: 34, index: 45\n",
      "letter: 'a', start line: 34, index: 66\n",
      "letter: 'm', start line: 35, index: 40\n",
      "letter: 'm', start line: 35, index: 60\n",
      "letter: 't', start line: 36, index: 10\n",
      "letter: 'n', start line: 36, index: 18\n",
      "letter: 't', start line: 37, index: 0\n",
      "letter: 't', start line: 38, index: 0\n",
      "letter: 'h', start line: 38, index: 2\n",
      "letter: 'a', start line: 38, index: 4\n",
      "letter: 'd', start line: 38, index: 19\n",
      "letter: 's', start line: 38, index: 34\n",
      "letter: 'e', start line: 38, index: 48\n",
      "letter: 'e', start line: 41, index: 11\n",
      "letter: 'e', start line: 41, index: 26\n",
      "letter: 's', start line: 41, index: 63\n",
      "letter: 'c', start line: 42, index: 0\n",
      "letter: 'o', start line: 42, index: 1\n",
      "letter: 'p', start line: 42, index: 18\n",
      "letter: 't', start line: 42, index: 45\n",
      "letter: 'e', start line: 42, index: 57\n",
      "letter: 't', start line: 42, index: 73\n",
      "letter: 'l', start line: 42, index: 77\n",
      "letter: 't', start line: 43, index: 32\n",
      "letter: 'e', start line: 43, index: 36\n",
      "letter: 'e', start line: 43, index: 48\n",
      "letter: 'r', start line: 44, index: 25\n",
      "letter: 'm', start line: 45, index: 0\n",
      "letter: 'y', start line: 45, index: 5\n",
      "letter: 'i', start line: 45, index: 33\n",
      "letter: 'o', start line: 45, index: 55\n",
      "letter: 's', start line: 46, index: 34\n",
      "letter: 't', start line: 47, index: 24\n",
      "letter: 'r', start line: 47, index: 42\n",
      "letter: 's', start line: 47, index: 44\n",
      "letter: 'e', start line: 47, index: 52\n",
      "letter: 'l', start line: 47, index: 61\n",
      "letter: 'r', start line: 48, index: 37\n",
      "letter: 'e', start line: 48, index: 50\n",
      "letter: 's', start line: 50, index: 14\n",
      "letter: 't', start line: 51, index: 0\n",
      "letter: 'o', start line: 51, index: 2\n",
      "letter: 'e', start line: 52, index: 31\n",
      "letter: 'n', start line: 52, index: 32\n",
      "letter: 't', start line: 52, index: 33\n",
      "letter: 'r', start line: 53, index: 5\n",
      "letter: 'o', start line: 53, index: 8\n",
      "letter: 'a', start line: 53, index: 12\n",
      "letter: 's', start line: 53, index: 53\n",
      "letter: 't', start line: 53, index: 61\n",
      "letter: 'i', start line: 53, index: 69\n",
      "letter: 'o', start line: 54, index: 1\n",
      "letter: 'a', start line: 54, index: 12\n",
      "letter: 'l', start line: 54, index: 45\n",
      "letter: 'a', start line: 54, index: 48\n",
      "letter: 's', start line: 55, index: 0\n",
      "letter: 't', start line: 55, index: 11\n",
      "letter: 'n', start line: 55, index: 33\n",
      "letter: 'i', start line: 56, index: 17\n",
      "letter: 'r', start line: 56, index: 40\n",
      "letter: 't', start line: 56, index: 54\n",
      "letter: 'a', start line: 57, index: 11\n",
      "letter: 'n', start line: 57, index: 13\n",
      "letter: 'h', start line: 57, index: 31\n",
      "letter: 'a', start line: 58, index: 36\n",
      "letter: 'e', start line: 58, index: 54\n",
      "letter: 'a', start line: 59, index: 36\n",
      "letter: 'o', start line: 59, index: 45\n",
      "letter: 't', start line: 59, index: 49\n",
      "letter: 'e', start line: 59, index: 50\n",
      "letter: 'e', start line: 59, index: 54\n",
      "letter: 't', start line: 59, index: 78\n",
      "letter: 'a', start line: 60, index: 24\n",
      "letter: 't', start line: 60, index: 33\n",
      "letter: 'e', start line: 60, index: 73\n",
      "letter: 't', start line: 60, index: 75\n",
      "letter: 'r', start line: 61, index: 30\n",
      "letter: 'i', start line: 61, index: 45\n",
      "letter: 't', start line: 62, index: 56\n",
      "letter: 'r', start line: 63, index: 39\n",
      "letter: 'e', start line: 64, index: 66\n",
      "letter: 'a', start line: 65, index: 2\n",
      "letter: 'a', start line: 65, index: 14\n",
      "letter: 'a', start line: 65, index: 22\n",
      "letter: 'n', start line: 65, index: 29\n",
      "letter: 'a', start line: 66, index: 35\n",
      "letter: 'e', start line: 66, index: 69\n",
      "letter: 'e', start line: 67, index: 72\n",
      "letter: 'e', start line: 68, index: 17\n",
      "letter: 'r', start line: 68, index: 29\n",
      "letter: 'n', start line: 68, index: 35\n",
      "letter: 's', start line: 68, index: 37\n",
      "letter: 'n', start line: 68, index: 40\n",
      "letter: 'n', start line: 68, index: 57\n",
      "letter: 't', start line: 68, index: 71\n",
      "letter: 'c', start line: 69, index: 0\n",
      "letter: 'e', start line: 69, index: 46\n",
      "letter: 'i', start line: 69, index: 51\n",
      "letter: 't', start line: 70, index: 5\n",
      "letter: 'e', start line: 70, index: 15\n",
      "letter: 'r', start line: 70, index: 22\n",
      "letter: 'a', start line: 70, index: 35\n",
      "letter: 's', start line: 71, index: 41\n",
      "letter: 'e', start line: 71, index: 49\n",
      "letter: 't', start line: 72, index: 3\n",
      "letter: 's', start line: 72, index: 24\n",
      "letter: 'e', start line: 72, index: 38\n",
      "letter: 'o', start line: 72, index: 42\n",
      "letter: 't', start line: 73, index: 3\n",
      "letter: 't', start line: 73, index: 10\n",
      "letter: 'i', start line: 73, index: 13\n",
      "letter: 'e', start line: 73, index: 23\n",
      "letter: 't', start line: 73, index: 59\n",
      "letter: 'h', start line: 74, index: 12\n",
      "letter: 'i', start line: 74, index: 13\n",
      "letter: 'e', start line: 74, index: 27\n",
      "letter: 'e', start line: 77, index: 6\n",
      "letter: 'a', start line: 77, index: 21\n",
      "letter: 'a', start line: 77, index: 74\n",
      "letter: 'f', start line: 78, index: 1\n",
      "letter: 'e', start line: 78, index: 6\n",
      "letter: 'i', start line: 78, index: 13\n",
      "letter: 't', start line: 78, index: 22\n",
      "letter: 'a', start line: 78, index: 42\n",
      "letter: 'a', start line: 78, index: 61\n",
      "letter: 'i', start line: 79, index: 31\n",
      "letter: 'a', start line: 79, index: 59\n",
      "letter: 'e', start line: 79, index: 65\n",
      "letter: 'o', start line: 80, index: 10\n",
      "letter: 's', start line: 80, index: 24\n",
      "letter: 't', start line: 80, index: 32\n",
      "letter: 'a', start line: 80, index: 37\n",
      "letter: 'e', start line: 81, index: 6\n",
      "letter: 'e', start line: 82, index: 11\n",
      "letter: 'e', start line: 82, index: 14\n",
      "letter: 'o', start line: 82, index: 52\n",
      "letter: 'l', start line: 82, index: 70\n",
      "letter: 'c', start line: 83, index: 41\n",
      "letter: 'e', start line: 83, index: 47\n"
     ]
    }
   ],
   "source": [
    "with open(\"haystack.txt\", \"r\") as file:\n",
    "    text = file.readlines()\n",
    "\n",
    "def two_letters_consecutive_lines(text):\n",
    "    text = [line.lower() for line in text]\n",
    "    alphabet = string.ascii_lowercase\n",
    "    pattern = [letter * 2 for letter in alphabet]\n",
    "    state_arr, _ = find_2d_pattern(text, pattern, print_matching = False)\n",
    "    \n",
    "    state_map = {}\n",
    "    for i, letter in enumerate(alphabet):\n",
    "        state_map[SMA.occurrence_pattern[i]] = letter\n",
    "\n",
    "    print(\"All occurrences of same letter in two consecutive lines\")\n",
    "    for i in range(len(state_arr)):\n",
    "        for j in range(len(state_arr[i])):\n",
    "            if state_arr[i][j] in state_map:\n",
    "                print(f\"letter: '{state_map[state_arr[i][j]]}', start line: {i}, index: {j}\")\n",
    "\n",
    "\n",
    "two_letters_consecutive_lines(text)"
   ]
  },
  {
   "cell_type": "markdown",
   "id": "ce28cf5b-44e3-414d-8b05-6ce19263d351",
   "metadata": {},
   "source": [
    "## Find all occurrences of \"th\" or \"t h\" in the two consecutive lines"
   ]
  },
  {
   "cell_type": "code",
   "execution_count": 278,
   "id": "25a60f96-cf9a-4181-9648-a71bd6be454f",
   "metadata": {},
   "outputs": [
    {
     "name": "stdout",
     "output_type": "stream",
     "text": [
      "For 'th'\n",
      "There is no such pattern in the text!\n",
      "\n",
      "For 't h'\n",
      "The pattern ends in the line: 39 at index: 0\n",
      "\n"
     ]
    }
   ],
   "source": [
    "pattern = [\"tt\", \"hh\"]\n",
    "print(\"For 'th'\")\n",
    "find_2d_pattern(text, pattern)\n",
    "\n",
    "\n",
    "pattern = [\"tt\", \"  \", \"hh\"]\n",
    "print(\"For 't h'\")\n",
    "find_2d_pattern(text, pattern)\n",
    "print()"
   ]
  },
  {
   "cell_type": "markdown",
   "id": "85b46e06-06dc-472b-b586-c7b1e400b569",
   "metadata": {},
   "source": [
    "## Find four lowercase letters in haystack.png"
   ]
  },
  {
   "cell_type": "code",
   "execution_count": 45,
   "id": "ccd940af-ea9e-453b-9dc5-d8acafd159a0",
   "metadata": {},
   "outputs": [],
   "source": [
    "def convert_img_to_text(path):\n",
    "    with Image.open(path) as img:\n",
    "        img = img.convert(\"L\")\n",
    "    return img, np.array(img).T\n",
    "             \n",
    "\n",
    "hs_img, haystack = convert_img_to_text(\"haystack.png\")\n",
    "haystack = haystack.T"
   ]
  },
  {
   "cell_type": "code",
   "execution_count": 123,
   "id": "a5b647c5-d51d-4d07-98c0-72ccb004597e",
   "metadata": {},
   "outputs": [
    {
     "name": "stdout",
     "output_type": "stream",
     "text": [
      "Number of occurrences of 'a': 397\n"
     ]
    },
    {
     "data": {
      "image/png": "[encoded data removed]",
      "text/plain": [
       "<PIL.Image.Image image mode=L size=9x10 at 0x1EBC3F55B50>"
      ]
     },
     "execution_count": 123,
     "metadata": {},
     "output_type": "execute_result"
    }
   ],
   "source": [
    "a, a_pat = convert_img_to_text(\"a.png\")\n",
    "_, res = find_2d_pattern(haystack, a_pat, print_matching = False)\n",
    "print(\"Number of occurrences of 'a':\", len(res))\n",
    "a"
   ]
  },
  {
   "cell_type": "code",
   "execution_count": 131,
   "id": "b8bc68a4-ba45-4144-a1ab-32d94aa8516e",
   "metadata": {},
   "outputs": [
    {
     "name": "stdout",
     "output_type": "stream",
     "text": [
      "Number of occurrences of 'e': 583\n"
     ]
    },
    {
     "data": {
      "image/png": "[encoded data removed]",
      "text/plain": [
       "<PIL.Image.Image image mode=L size=9x8 at 0x1EBC2F7B940>"
      ]
     },
     "execution_count": 131,
     "metadata": {},
     "output_type": "execute_result"
    }
   ],
   "source": [
    "e, e_pat = convert_img_to_text(\"e.png\")\n",
    "_, res = find_2d_pattern(haystack, e_pat, print_matching = False)\n",
    "print(\"Number of occurrences of 'e':\", len(res))\n",
    "e"
   ]
  },
  {
   "cell_type": "code",
   "execution_count": 79,
   "id": "a8ca806d-7ad5-43fb-abc7-708776b0e3a7",
   "metadata": {},
   "outputs": [
    {
     "name": "stdout",
     "output_type": "stream",
     "text": [
      "Number of occurrences of 'o': 369\n"
     ]
    },
    {
     "data": {
      "image/png": "[encoded data removed]",
      "text/plain": [
       "<PIL.Image.Image image mode=L size=9x10 at 0x1EBC2EA3460>"
      ]
     },
     "execution_count": 79,
     "metadata": {},
     "output_type": "execute_result"
    }
   ],
   "source": [
    "o, o_pat = convert_img_to_text(\"o.png\")\n",
    "_, res = find_2d_pattern(haystack, o_pat, print_matching = False)\n",
    "print(\"Number of occurrences of 'o':\", len(res))\n",
    "o"
   ]
  },
  {
   "cell_type": "code",
   "execution_count": 144,
   "id": "a3b67665-d991-4365-b88f-ebd46980c505",
   "metadata": {},
   "outputs": [
    {
     "name": "stdout",
     "output_type": "stream",
     "text": [
      "Number of occurrences of 's': 334\n"
     ]
    },
    {
     "data": {
      "image/png": "[encoded data removed]",
      "text/plain": [
       "<PIL.Image.Image image mode=L size=7x10 at 0x1EBC2F7B070>"
      ]
     },
     "execution_count": 144,
     "metadata": {},
     "output_type": "execute_result"
    }
   ],
   "source": [
    "s, s_pat = convert_img_to_text(\"s.png\")\n",
    "_, res = find_2d_pattern(haystack, s_pat, print_matching = False)\n",
    "print(\"Number of occurrences of 's':\", len(res))\n",
    "s"
   ]
  },
  {
   "cell_type": "markdown",
   "id": "89c6f219-b3ed-402b-9ac2-c1cc4def8c39",
   "metadata": {},
   "source": [
    "## Find all occurrences of 'p a t t e r n' in haystack.png"
   ]
  },
  {
   "cell_type": "code",
   "execution_count": 189,
   "id": "247cf471-a643-415f-9342-bca0ed432d3e",
   "metadata": {},
   "outputs": [
    {
     "name": "stdout",
     "output_type": "stream",
     "text": [
      "Number of occurrences of 'p a t t e r n': 5\n"
     ]
    },
    {
     "data": {
      "image/png": "[encoded data removed]",
      "text/plain": [
       "<PIL.Image.Image image mode=L size=99x17 at 0x1EBBC9E03D0>"
      ]
     },
     "execution_count": 189,
     "metadata": {},
     "output_type": "execute_result"
    }
   ],
   "source": [
    "pat_img, pat = convert_img_to_text(\"pattern.png\")\n",
    "_, res = find_2d_pattern(haystack, pat, print_matching = False)\n",
    "print(\"Number of occurrences of 'p a t t e r n':\", len(res))\n",
    "pat_img"
   ]
  },
  {
   "cell_type": "markdown",
   "id": "0f1394c4-9c5c-4abc-967b-80fa1275fcd3",
   "metadata": {},
   "source": [
    "## Comparison of preprocessing and search time due to change of pattern size"
   ]
  },
  {
   "cell_type": "code",
   "execution_count": 272,
   "id": "70f70a16-fe10-4a0a-b281-835483014556",
   "metadata": {},
   "outputs": [],
   "source": [
    "from time import perf_counter\n",
    "import matplotlib.pyplot as plt\n",
    "\n",
    "def measure_time(text, pattern, prec1, prec2, title):\n",
    "    res_times = []\n",
    "    fig, ax = plt.subplots(figsize = (10, 6))\n",
    "    \n",
    "    t = perf_counter()\n",
    "    sma = SMA(pattern)\n",
    "    res_times.append(perf_counter() - t)\n",
    "    \n",
    "    t = perf_counter()\n",
    "    _, res = find_2d_pattern(text, pattern, print_matching = False, sma = sma)\n",
    "    res_times.append(perf_counter() - t)\n",
    "    ax.set_title(title)\n",
    "    print(f\"Automaton construction time: {round(res_times[0], prec1)} s.\\t\\tSearch time: {round(res_times[1], prec2)} s.\\n\")\n",
    "    plt.bar([\"Automaton construction\", \"Search\"], res_times)"
   ]
  },
  {
   "cell_type": "markdown",
   "id": "998c8464-8327-4323-a689-fb35aef67de7",
   "metadata": {},
   "source": [
    "#### Test \\#1\n",
    "Pattern shape - 2x2"
   ]
  },
  {
   "cell_type": "code",
   "execution_count": 273,
   "id": "a4ca77e1-42a4-41d7-a9b1-0c4750802565",
   "metadata": {},
   "outputs": [
    {
     "name": "stdout",
     "output_type": "stream",
     "text": [
      "Automaton construction time: 4.12e-05 s.\t\tSearch time: 0.009 s.\n",
      "\n"
     ]
    },
    {
     "data": {
      "image/png": "[encoded data removed]",
      "text/plain": [
       "<Figure size 720x432 with 1 Axes>"
      ]
     },
     "metadata": {
      "needs_background": "light"
     },
     "output_type": "display_data"
    }
   ],
   "source": [
    "pattern = [\"st\", \"ie\"]\n",
    "measure_time(text, pattern, prec1 = 7, prec2 = 3, title = \"Pattern shape - 2x2\")"
   ]
  },
  {
   "cell_type": "markdown",
   "id": "639ab6cd-2292-4394-86f1-96e67e7a0a3d",
   "metadata": {},
   "source": [
    "#### Test \\#2\n",
    "Pattern shape - 240x240"
   ]
  },
  {
   "cell_type": "code",
   "execution_count": 280,
   "id": "21c32406-3970-45f1-91d4-081d36d693a7",
   "metadata": {},
   "outputs": [
    {
     "name": "stdout",
     "output_type": "stream",
     "text": [
      "Automaton construction time: 0.2 s.\t\tSearch time: 0.01 s.\n",
      "\n"
     ]
    },
    {
     "data": {
      "image/png": "[encoded data removed]",
      "text/plain": [
       "<Figure size 720x432 with 1 Axes>"
      ]
     },
     "metadata": {
      "needs_background": "light"
     },
     "output_type": "display_data"
    }
   ],
   "source": [
    "import random\n",
    "\n",
    "alphabet = list(string.ascii_lowercase + \" \\n,.\") * 8\n",
    "pattern = [random.sample(alphabet, len(alphabet)) for _ in range(len(alphabet))]\n",
    "measure_time(text, pattern, prec1 = 2, prec2 = 2, title = \"Pattern shape - 240x240\")"
   ]
  },
  {
   "cell_type": "markdown",
   "id": "43d39ac0-7dec-4791-ac6c-0071ea4f0641",
   "metadata": {},
   "source": [
    "#### Test #3\n",
    "Pattern shape = 1020x1020"
   ]
  },
  {
   "cell_type": "code",
   "execution_count": 279,
   "id": "9239efaa-b7f8-4e52-8033-aaa986b64c89",
   "metadata": {},
   "outputs": [
    {
     "name": "stdout",
     "output_type": "stream",
     "text": [
      "Automaton construction time: 7.78 s.\t\tSearch time: 0.03 s.\n",
      "\n"
     ]
    },
    {
     "data": {
      "image/png": "[encoded data removed]",
      "text/plain": [
       "<Figure size 720x432 with 1 Axes>"
      ]
     },
     "metadata": {
      "needs_background": "light"
     },
     "output_type": "display_data"
    }
   ],
   "source": [
    "alphabet = list(string.ascii_lowercase + \" \\n,.\") * 34\n",
    "pattern = [random.sample(alphabet, len(alphabet)) for _ in range(len(alphabet))]\n",
    "measure_time(text, pattern, prec1 = 2, prec2 = 2, title = \"Pattern shape - 1020x1020\")"
   ]
  },
  {
   "cell_type": "markdown",
   "id": "f606c8f8-6e62-4ade-babd-0562a7c606b3",
   "metadata": {},
   "source": [
    "As we can see from above diagrams search time is independent from the size of the pattern"
   ]
  },
  {
   "cell_type": "markdown",
   "id": "879c36f8-390f-4513-b8d5-e29ac9cc0812",
   "metadata": {},
   "source": [
    "## Comparison of search time due to the change of text size"
   ]
  },
  {
   "cell_type": "code",
   "execution_count": 322,
   "id": "f3604444-d43b-4049-aa75-7fcba2335af6",
   "metadata": {},
   "outputs": [
    {
     "name": "stdout",
     "output_type": "stream",
     "text": [
      "\t1/8: 0.0012 s.\t   1/4: 0.0018 s.\t1/2: 0.0038 s.\t1: 0.0077 s.\n",
      "\n"
     ]
    },
    {
     "data": {
      "image/png": "[encoded data removed]",
      "text/plain": [
       "<Figure size 720x432 with 1 Axes>"
      ]
     },
     "metadata": {
      "needs_background": "light"
     },
     "output_type": "display_data"
    }
   ],
   "source": [
    "text_half = text[: len(text) // 2]\n",
    "text_quarter = text[: len(text) // 4]\n",
    "text_eighth = text[: len(text) // 8]\n",
    "pattern = [\"st\", \"ie\"]\n",
    "\n",
    "sma = SMA(pattern)\n",
    "fig, ax = plt.subplots(figsize = (10, 6))\n",
    "res_times = []\n",
    "t = perf_counter()\n",
    "_, res = find_2d_pattern(text_eighth, pattern, print_matching = False, sma = sma)\n",
    "res_times.append(perf_counter() - t)\n",
    "\n",
    "t = perf_counter()\n",
    "_, res = find_2d_pattern(text_quarter, pattern, print_matching = False, sma = sma)\n",
    "res_times.append(perf_counter() - t)\n",
    "\n",
    "t = perf_counter()\n",
    "_, res = find_2d_pattern(text_half, pattern, print_matching = False, sma = sma)\n",
    "res_times.append(perf_counter() - t)\n",
    "\n",
    "t = perf_counter()\n",
    "_, res = find_2d_pattern(text, pattern, print_matching = False, sma = sma)\n",
    "res_times.append(perf_counter() - t)\n",
    "\n",
    "ax.set_title(\"Search times due to the size of haystack.txt\")\n",
    "plt.bar([\"1/8\", \"1/4\", \"1/2\", \"1\"], res_times, label = 'res_times')\n",
    "print(f\"\\t1/8: {round(res_times[0], 4)} s.\\t   1/4: {round(res_times[1], 4)} s.\\t1/2: {round(res_times[2], 4)} s.\\t1: {round(res_times[3], 4)} s.\\n\")"
   ]
  }
 ],
 "metadata": {
  "kernelspec": {
   "display_name": "Python 3 (ipykernel)",
   "language": "python",
   "name": "python3"
  },
  "language_info": {
   "codemirror_mode": {
    "name": "ipython",
    "version": 3
   },
   "file_extension": ".py",
   "mimetype": "text/x-python",
   "name": "python",
   "nbconvert_exporter": "python",
   "pygments_lexer": "ipython3",
   "version": "3.9.7"
  }
 },
 "nbformat": 4,
 "nbformat_minor": 5
}
