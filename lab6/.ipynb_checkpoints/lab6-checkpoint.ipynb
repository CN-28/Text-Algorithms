{
 "cells": [
  {
   "cell_type": "markdown",
   "id": "5f98265b-c426-447e-b4eb-3c08748a2ad4",
   "metadata": {},
   "source": [
    "# Similarity metrics"
   ]
  },
  {
   "cell_type": "markdown",
   "id": "865b937d-ac97-4638-9c16-6094498fca5b",
   "metadata": {},
   "source": [
    "## Longest common subsequence similarity"
   ]
  },
  {
   "cell_type": "code",
   "execution_count": 16,
   "id": "023b0359-bc51-4417-a72f-2a377d71f2a3",
   "metadata": {},
   "outputs": [],
   "source": [
    "# Time complexity: O(M * N), space complexity O(min(M, N))\n",
    "def lcs_sim(string1, string2):\n",
    "    n, m = len(string1), len(string2)\n",
    "    if n < m: return lcs_sim(string2, string1)\n",
    "    dp = [[0] * (m + 1) for _ in range(2)]\n",
    "\n",
    "    for i in range(1, n + 1):\n",
    "        for j in range(1, m + 1):\n",
    "            if string1[i - 1] == string2[j - 1]:\n",
    "                dp[1][j] = dp[0][j - 1] + 1\n",
    "            else:\n",
    "                dp[1][j] = max(dp[0][j], dp[1][j - 1])\n",
    "\n",
    "        dp[0], dp[1] = dp[1], dp[0]\n",
    "\n",
    "    return 1 - dp[0][m] / n"
   ]
  },
  {
   "cell_type": "markdown",
   "id": "7af840e9-813b-49b4-b788-b666edad4d84",
   "metadata": {},
   "source": [
    "## Text similarity using Levenshtein distance"
   ]
  },
  {
   "cell_type": "code",
   "execution_count": 17,
   "id": "4074814f-9610-4f29-8f25-f13f919533c8",
   "metadata": {},
   "outputs": [],
   "source": [
    "# Time complexity: O(N * M), space complexity: O(N)\n",
    "def levenshtein_sim(from_str, to_str):\n",
    "    n, m = len(to_str), len(from_str)\n",
    "    dp = [[0] * (n + 1) for _ in range(2)]\n",
    "\n",
    "    for i in range(1, n + 1):\n",
    "        dp[0][i] = i\n",
    "\n",
    "    for i in range(1, m + 1):\n",
    "        dp[1][0] = i\n",
    "        for j in range(1, n + 1):\n",
    "            if from_str[i - 1] == to_str[j - 1]:\n",
    "                dp[1][j] = dp[0][j - 1]\n",
    "            else:\n",
    "                dp[1][j] = min(dp[0][j - 1], dp[1][j - 1], dp[0][j]) + 1\n",
    "\n",
    "        dp[0], dp[1] = dp[1], dp[0]\n",
    "\n",
    "    return dp[0][n] / max(n, m)"
   ]
  },
  {
   "cell_type": "markdown",
   "id": "a3455295-9bbf-4dbd-91bc-4ae2f5e4d4c1",
   "metadata": {},
   "source": [
    "## Sørensen-Dice similarity"
   ]
  },
  {
   "cell_type": "code",
   "execution_count": 18,
   "id": "55e3a29b-1991-41d4-a588-b9e6704e1962",
   "metadata": {},
   "outputs": [],
   "source": [
    "from collections import Counter\n",
    "\n",
    "def dice_sim(string1, string2):\n",
    "    n, m = len(string1), len(string2)\n",
    "    intersection = Counter(string1) & Counter(string2)\n",
    "    return 1 - 2 * sum(intersection.values()) / (n + m)"
   ]
  },
  {
   "cell_type": "markdown",
   "id": "88e50b91-d096-4472-9a19-cd4d66826220",
   "metadata": {},
   "source": [
    "# Metric for evaluating clustering algorithms"
   ]
  },
  {
   "cell_type": "markdown",
   "id": "e4c385b8-b7e1-4b18-a0f9-b6a507c51b5f",
   "metadata": {},
   "source": [
    "## Davies–Bouldin index"
   ]
  },
  {
   "cell_type": "code",
   "execution_count": 19,
   "id": "5f939d15-6a54-424f-8c4f-afc21e17fc16",
   "metadata": {},
   "outputs": [],
   "source": [
    "def get_centroid(cluster, metric):\n",
    "    n = len(cluster)\n",
    "    dist = [0 for _ in range(n)]\n",
    "    for i in range(n):\n",
    "        for j in range(i + 1, n):\n",
    "            d = metric(cluster[i], cluster[j])\n",
    "            dist[i] += d\n",
    "            dist[j] += d\n",
    "    \n",
    "    return cluster[dist.index(min(dist))]\n",
    "\n",
    "def mean_dist(cluster, centroid, metric):\n",
    "    dist = 0\n",
    "    for line in cluster:\n",
    "        dist += metric(line, centroid)\n",
    "    \n",
    "    return dist / len(cluster)\n",
    "    \n",
    "def davies_bouldin_index(clusters, metric):\n",
    "    n = len(clusters)\n",
    "    centroids = [get_centroid(cluster, metric) for cluster in clusters]\n",
    "    means = [mean_dist(clusters[i], centroids[i], metric) for i in range(len(clusters))]\n",
    "    \n",
    "    D = [0 for _  in range(n)]\n",
    "    for i in range(n):\n",
    "        for j in range(i + 1, n):\n",
    "            D[i] = max(D[i], (means[i] + means[j]) / metric(centroids[i], centroids[j]))\n",
    "    \n",
    "    return sum(D) / n"
   ]
  },
  {
   "cell_type": "markdown",
   "id": "025b03bd-ebd1-4669-8b95-b1e642def8ac",
   "metadata": {},
   "source": [
    "# Stoplist"
   ]
  },
  {
   "cell_type": "code",
   "execution_count": 83,
   "id": "945d9941-917d-4685-a846-437f956be7f7",
   "metadata": {},
   "outputs": [],
   "source": [
    "def preprocess_data(text, reject_prc):\n",
    "    n = len(text)\n",
    "    all_words = [word for line in text for word in line.split()]\n",
    "    counter = Counter(all_words)\n",
    "    \n",
    "    # reject 1 % of the most common words\n",
    "    reject_num = int(n * (reject_prc / 100))\n",
    "    to_reject = [word[0] for word in counter.most_common()[:reject_num]]\n",
    "    return [\"\".join([word for word in text[i] if word not in to_reject]) for i in range(len(text))]"
   ]
  },
  {
   "cell_type": "markdown",
   "id": "8c857950-769f-4690-9483-8413d027b63a",
   "metadata": {},
   "source": [
    "## Data preparation"
   ]
  },
  {
   "cell_type": "code",
   "execution_count": 21,
   "id": "ddfb8f14-dfcd-467b-baba-52a327231076",
   "metadata": {},
   "outputs": [],
   "source": [
    "with open(\"lines.txt\", \"r\", encoding=\"UTF-8\") as file:\n",
    "    text = [line.rstrip() for line in file.readlines()]"
   ]
  },
  {
   "cell_type": "markdown",
   "id": "6abb950e-ed49-414f-8e69-c3eca9bd736e",
   "metadata": {},
   "source": [
    "# Clustering"
   ]
  },
  {
   "cell_type": "code",
   "execution_count": 109,
   "id": "adcb03ac-21c6-4980-8ec6-6e72f9669700",
   "metadata": {},
   "outputs": [],
   "source": [
    "from sklearn.cluster import DBSCAN\n",
    "import numpy as np\n",
    "\n",
    "\n",
    "def cluster(text, metric, eps=0.5, preprocess=True, reject_prc=3):\n",
    "    if preprocess:\n",
    "        text = preprocess_data(text, reject_prc)\n",
    "    \n",
    "    n = len(text)\n",
    "    X = np.arange(n).reshape(-1, 1)\n",
    "    clustering = DBSCAN(metric=lambda i, j: metric(text[int(i)], text[int(j)]), eps=eps, min_samples=1).fit_predict(X)\n",
    "    \n",
    "    clusters = {}\n",
    "    for i in range(n):\n",
    "        if clustering[i] not in clusters:\n",
    "            clusters[clustering[i]] = []\n",
    "        \n",
    "        clusters[clustering[i]].append(text[i])\n",
    "    \n",
    "    return clusters"
   ]
  },
  {
   "cell_type": "markdown",
   "id": "9baed5f3-8464-44c4-a2ee-b345a7ee9aaf",
   "metadata": {},
   "source": [
    "## Clustering evaluation"
   ]
  },
  {
   "cell_type": "code",
   "execution_count": 78,
   "id": "6d125414-5e65-409f-b88d-7df68507002f",
   "metadata": {},
   "outputs": [],
   "source": [
    "def evaluate_clusters(text, metric, eps, reject_prc=3, preprocess=True):\n",
    "    clusters = list(cluster(text, metric, eps, preprocess, reject_prc).values())\n",
    "    print(f\"Number of lines: {len(text)}\")\n",
    "    print(f\"Number of clusters: {len(clusters)}\")\n",
    "    print(f\"Similarity accepatance rate: {eps}\")\n",
    "    metrics = {dice_sim: \"DICE\", lcs_sim: \"LCS\", levenshtein_sim: \"Levenshtein\"}\n",
    "    print(f\"Metric: {metrics[metric]}\")\n",
    "    print(f\"Davies-Bouldin index {davies_bouldin_index(clusters, metric)}\")\n",
    "    print(f\"Preprocessed: {preprocess}\")"
   ]
  },
  {
   "cell_type": "markdown",
   "id": "2f772094-a833-4c46-b065-d7039225ae19",
   "metadata": {},
   "source": [
    "#### Sørensen-Dice similarity"
   ]
  },
  {
   "cell_type": "code",
   "execution_count": 101,
   "id": "a953b12d-9741-4367-9fc1-84185b2cd9ee",
   "metadata": {},
   "outputs": [
    {
     "name": "stdout",
     "output_type": "stream",
     "text": [
      "--------------------------------------------------\n",
      "Number of lines: 1000\n",
      "Number of clusters: 36\n",
      "Similarity accepatance rate: 0.3\n",
      "Metric: DICE\n",
      "Davies-Bouldin index 0.2746851632498913\n",
      "Preprocessed: True\n",
      "\n",
      "Number of lines: 1000\n",
      "Number of clusters: 63\n",
      "Similarity accepatance rate: 0.3\n",
      "Metric: DICE\n",
      "Davies-Bouldin index 0.30538354365368836\n",
      "Preprocessed: False\n",
      "--------------------------------------------------\n"
     ]
    }
   ],
   "source": [
    "print(\"-\" * 50)\n",
    "evaluate_clusters(text[:1000], dice_sim, 0.3, reject_prc=10)\n",
    "print()\n",
    "evaluate_clusters(text[:1000], dice_sim, 0.3, reject_prc=10, preprocess=False)\n",
    "print(\"-\" * 50)"
   ]
  },
  {
   "cell_type": "code",
   "execution_count": 129,
   "id": "a87389d5-9079-4154-ae8c-11d8d002ac49",
   "metadata": {},
   "outputs": [
    {
     "name": "stdout",
     "output_type": "stream",
     "text": [
      "--------------------------------------------------\n",
      "Number of lines: 100\n",
      "Number of clusters: 16\n",
      "Similarity accepatance rate: 0.3\n",
      "Metric: DICE\n",
      "Davies-Bouldin index 0.10588835951162523\n",
      "Preprocessed: True\n",
      "\n",
      "Number of lines: 100\n",
      "Number of clusters: 17\n",
      "Similarity accepatance rate: 0.3\n",
      "Metric: DICE\n",
      "Davies-Bouldin index 0.10762148721155555\n",
      "Preprocessed: False\n",
      "--------------------------------------------------\n"
     ]
    }
   ],
   "source": [
    "print(\"-\" * 50)\n",
    "evaluate_clusters(text[:100], dice_sim, 0.3, reject_prc=15)\n",
    "print()\n",
    "evaluate_clusters(text[:100], dice_sim, 0.3, reject_prc=15, preprocess=False)\n",
    "print(\"-\" * 50)"
   ]
  },
  {
   "cell_type": "markdown",
   "id": "ae8df7a6-0652-45bc-bcca-ee6105c395a5",
   "metadata": {},
   "source": [
    "#### LCS similarity"
   ]
  },
  {
   "cell_type": "code",
   "execution_count": 128,
   "id": "c875e874-9f0c-4724-8894-2a3797cdbb9b",
   "metadata": {},
   "outputs": [
    {
     "name": "stdout",
     "output_type": "stream",
     "text": [
      "--------------------------------------------------\n",
      "Number of lines: 100\n",
      "Number of clusters: 9\n",
      "Similarity accepatance rate: 0.65\n",
      "Metric: LCS\n",
      "Davies-Bouldin index 0.42042555070715076\n",
      "Preprocessed: True\n",
      "\n",
      "Number of lines: 100\n",
      "Number of clusters: 10\n",
      "Similarity accepatance rate: 0.65\n",
      "Metric: LCS\n",
      "Davies-Bouldin index 0.4015341515540848\n",
      "Preprocessed: False\n",
      "--------------------------------------------------\n"
     ]
    }
   ],
   "source": [
    "print(\"-\" * 50)\n",
    "evaluate_clusters(text[:100], lcs_sim, 0.65, reject_prc=12)\n",
    "print()\n",
    "evaluate_clusters(text[:100], lcs_sim, 0.65, reject_prc=12, preprocess=False)\n",
    "print(\"-\" * 50)"
   ]
  },
  {
   "cell_type": "markdown",
   "id": "7096f6b5-3286-408b-84bf-5066571d962f",
   "metadata": {},
   "source": [
    "#### Text similarity using Levenshtein distance"
   ]
  },
  {
   "cell_type": "code",
   "execution_count": 125,
   "id": "865466f0-cb3d-4709-bb56-327137208dd4",
   "metadata": {},
   "outputs": [
    {
     "name": "stdout",
     "output_type": "stream",
     "text": [
      "--------------------------------------------------\n",
      "Number of lines: 100\n",
      "Number of clusters: 26\n",
      "Similarity accepatance rate: 0.7\n",
      "Metric: Levenshtein\n",
      "Davies-Bouldin index 0.4713203212643998\n",
      "Preprocessed: True\n",
      "\n",
      "Number of lines: 100\n",
      "Number of clusters: 26\n",
      "Similarity accepatance rate: 0.7\n",
      "Metric: Levenshtein\n",
      "Davies-Bouldin index 0.4713203212643998\n",
      "Preprocessed: False\n",
      "--------------------------------------------------\n"
     ]
    }
   ],
   "source": [
    "print(\"-\" * 50)\n",
    "evaluate_clusters(text[:100], levenshtein_sim, 0.7, reject_prc=10)\n",
    "print()\n",
    "evaluate_clusters(text[:100], levenshtein_sim, 0.7, reject_prc=10, preprocess=False)\n",
    "print(\"-\" * 50)"
   ]
  },
  {
   "cell_type": "markdown",
   "id": "7de04ee8-3b36-4272-8e48-c4217d2b25ef",
   "metadata": {},
   "source": [
    "For first 100 lines of the text Sørensen-Dice similarity has the lowest (the best) DB index, which could imply that it is the best metric, but the value of DB index highly depends on the parameter of acceptance rate, which will be different for every metric to get optimal results."
   ]
  },
  {
   "cell_type": "code",
   "execution_count": 126,
   "id": "404850f1-6b5d-426f-a8bd-de7622b6a81e",
   "metadata": {},
   "outputs": [
    {
     "name": "stdout",
     "output_type": "stream",
     "text": [
      "['/11692589 RD TUNA CANNERS, LTD. PORTION 1004, SIAR NORTH COAST ROAD, P.O.BOX 2113, MADANG, PAPUA NEW GUINEA']\n",
      "====================================================================================================\n",
      "[\"''PA INTERIOR'' LTD BOLSHAYA LUBYANKA STREET, 16/4 MOSCOW, 101000, RUSSIA INN/KPP 7704550148//770801001 495-984-8611\", '\"A-LIFT\",JSC 1 PROSPEKT MARSHALA ZHUKOVA,MOSCOW 123308,RUSSIA  T: +7(495)784-7961', '\"ENS\" LTD ADDRESS: STAROPETROVSKIYPASSAGE, BLD 7A,  CONSTRUCTION 3 125130, MOSCOW, RUSSIA TEL: (499) 130-7336']\n",
      "====================================================================================================\n",
      "[\"''SSONTEX''  Sp.ZO.O.IMPORT-EXPORTUL:PRZECLAWSKA 5 03-879 WARSZAWA,POLAND NIP 113-01-17-669\", \"''SSONTEX''SP.ZO.O.IMPORT-EXPORT UL:PRZECLAWSKA 5 03-879 WARSZAWA,POLAND NIP 113-01-17-669 TEL./FAX.:0048(022)217 6532--\", \"''TOPEX SP. Z O.O.'' SPOLKA KOMANDYTOWA UL. POGRANICZNA 2/4  02-285 WARSZAWA POLAND\", '\"KOBI-LIGHT\" SPOLKA KOMANDYTOWA UL.T.BOYA ZELENSKIEGO 25 35-105 RZESZOW,POLAND NIP:813-34-99-669', '\"KOBI-LIGHT\" SPOLKA KOMANDYTOWA UL.T.BOYA ZELENSKIEGO 25 35-105 RZESZOW,POLAND NIP:813-34-99-699', '\"SEVROLL-SYSTEM\" SP.Z O.O. PLAC CZERWCA 1976 ROKU NR 1B  02-495 WARSZAWA URSUS  TEL: (022) 312-31-39', '\"SEVROLL-SYSTEM\" SP.Z O.O. PLAC CZERWCA 1976 ROKU NR 1B  02-495 WARSZAWA URSUS   TEL: (022) 312-31-39', '\"SSONTEX\" SP.ZO.O IMPORT-EXPORT 03-879 WARSZAWA UL PRZECLAWSKA 5 NIP:113-01-17-669']\n",
      "====================================================================================================\n",
      "[\"'MASTER PLUS CO.,LTD.' 143000,RUSSIA,MO,ODINSOVO, MOJAISKOE, SHOSSE,153G TEL:+7495 7273939\", '\"ALDETRANS\" LLC, 105066, MOSCOW, RUSSIA, TOKMAKOV LANE, 11. TEL:+7(495)641-03-89', '\"ALLIANCE-TRADE\" LLC INN: 7816391055 / KPP: 784601001 190020, Saint Petersburg, quay of the Obvodny channel, 138, bulk 1, liter.B', '\"ALTAIR\" LIMITED COMPANY 199004,SAINT-PETERSBURG, 1 LINE,H.20 LIT A,OF.8-H', '\"ARIVIST\", 198035,RUSSIA,SAINT-PETERSBURG, GAPSALSKAYA STR.,5,OFFICE 1-3; TEL:+78123277732,FAX:+781 23277729.VOLOKNO@YAHOO.COM', '\"ARIVIST\", 198035,RUSSIA,SAINT-PETERSBURG, GAPSALSKAYA STR.,5,OFFICE 1-3; TEL.:+78123277732,FAX+ 78123277729.', '\"ARIVIST\", 198035,RUSSIA,SAINT-PETERSBURG,  GAPSALSKAYA STR.,5,OFFICE1-3; TEL.:+78123277732,FAX+ 78123277729.', '\"ARIVIST\", 198035,RUSSIA,SAINT-PETERSBURG,  GAPSALSKAYA STR.,5,OFFICE1-3; TEL.:+78123277732,FAX + 78123277729.', '\"ARIVIST\", 198035, RUSSIA,  SAINT-PETERSBURG,  GAPSALSKAYA STR.,5,OFFICE1-3;  TEL.+78123277732, FAX  +78123277729.', '\"ARIVIST\", 198035, RUSSIA, SAINT-PETERSBURG, GAPSALSKAYA STR.,5, OFFICE1-3; TEL.+78123277732, FAX +78123277729. VOLOKNO@YAHOO.COM', '\"ARIVIST\", 198035, RUSSIA, SAINT-PETERSBURG. GAPSALSKAYA STR.,5. OFFICE1-3; TEL.+78123277732, FAX+78123277729. VOLOKNO@YAHOO.COM', '\"AVANPORT\"  LLC INN: 7839413675 KPP: 783901001 190020, SAINT PETERSBURG, QUAY OF THE OBVODNY CHANNEL, 134-136-138, BUILD. 101, LIT. A\"', '\"AVANPORT\"  LLC INN: 7839413675 KPP: 783901001 190020, SAINT PETERSBURG, QUAY OF  THE OBVODNY CHANNEL,134-136-138,  BUILD. 101, LIT. A\"', '\"AVSON-GROUP\" COMPANY LIMITED 190008, ST. PETERSBURG,  RIMSKOGO-KORSAKOVA,  73/33, LIT. A-1', '\"Avson-group\" Company Limited  190008, St. Petersburg, Rimskogo-Korsakova, 73/33, lit. A-1', '\"CARGOIMPORT\" LTD VNUKOVSKAYA STREET, BUILDING 2, R.43-H-1, SAINT-PETERSBURG, RUSSIA .', '\"ELECTROGROUP\" (OOO),190068.RUSSIA,SAINT-PETERSBURG,UL.BOLSHAYA PODYACHESKAYA,5,LIT.A,POM.4-N', '\"ELECTROGROUP\" (OOO),190068.RUSSIA,SAINT-PETERSBURG,UL.BOLSHAYA  PODYACHESKAYA,5,LIT.A,POM.4-N', '\"EVROTRANSIT\" LLC 105005, RUSSIAN FEDERATION, MOSCOW, BAUMANSKAYA STR., 33/2, BLD.1 E-MAIL:EVROTRANZIT-LOGL@INBOX.RU TEL:8-495-665-34-68', '\"EXPRESS CO. LTD.\" RUSSIA 155101 IVANOVSKAYA REGION, LEZHNEVSKIY RAION, D. KOROVIHA, CENTRALNAYA STR. 4ARUSSIA', '\"EXPRESS CO. LTD.\"  RUSSIA 155101 IVANOVSKAYA REGION, LEZHNEVSKIY RAION, D. KOROVIHA, CENTRALNAYA STR. 4ARUSSIA', '\"FILITA\" LTD, UKRAINE, 83004, DONETSK, ARTEMA STR. 193G    TEL/FAX:+380563705563', '\"FINANS AKTIV\",LTD. 111250,RUSSIA,MOSCOW, KRASNOKAZARMENNAYA STR.11+7495 665 6001', '\"FMG SHIPPING AND FORWARDING, LTD.\"190020, SAINT PETERSBURG,LIFLYANDSKAYA STR., 6,LITERA \"A\",BUILDING 31H,OFFICE 310 POST CODE:190020 TEL:+7 812 448 82 83 FAX:+7 812 448 04 9', '\"FMG SHIPPING AND FORWARDING, LTD.\"190020 ST.PETERSBURG, RUSSIA BUMAZHNAYA STR., 18, OFF. 310', '\"GARANTTRANS SERVICE\" MOSCOW,RUSSIAUl.GILYAROVSKOGO,57.OFFICE 514 TEL:(495) 748 02 87 FAX:(495) 684 12 01', '\"INTERTRANS\" CO LTD. ST.PETERSBURG,198035,RUSSIA GAPSALSKAIA STREET,OFFICE 502, TEL 3242144, FAX:3242145', '\"KM\" LTD 197183 RUSSIA,ST. PETERSBURG,SABIROVSKAYA STR.,50,OFF,115 OLEG TEREKHOV ZIP CODE:197183 PHONE:7911239-3109  FAX:7911239-3109', '\"KONTUR\" LLC STR. SHPALERNAYA 51, LIT. A, APP. 2-N 191015 ST. PETERSBURG, RUSSIA INN 7842437789', '\"LIGA-IMPORT\" LTD DOROGA NA TURUHTANNIE OSTROVA, D.24, KORP.5, SAINT-PETERSBURG, 198096, RUSSIA', '\"LIGA-IMPORT\" LTD DOROGA NA TURUHTANNIE OSTROVA, D.24, KORP.5, SAINT-PETERSBURG, 198096, RUSSIA TEL/FAX:+7 (911) 812 89 88', '\"LIGA-IMPORT\" LTD DOROGA NA TURUHTANNIE OSTROVA, D. 24, KORP. 5, SAINT-PETERSBURG, 198096, RUSSIA TEL/FAX:+7 (911) 812 89 88', '\"MEAT TRADE COMPANY \"ST.PETERSBURG\"LTD.  191015 SAINT-PETERSBURG, SHPALERNAYA STREET, 51 RUSSIAN FEDERATION', '\"MEAT TRADE COMPANY \"ST.PETERSBURG\"LTD. 191015 SAINT-PETERSBURG,  SHPALERNAYA STREET, 51 RUSSIAN FEDERATION TEL +7 (812) 329-42-62 PYLAEVATATIANA', '\"MEAT TRADE COMPANY \"ST.PETERSBURG\"LTD 191015 SAINT-PETERSBURG, SHPALERNAYA STREET, 51 RUSSIAN FEDERATION', '\"MEAT TRADE COMPANY \"ST.PETERSBURG\"LTD 191015 SAINT-PETERSBURG, SHPALERNAYA STREET, 51 RUSSIAN FEDERATION INN 7842339206', '\"MEAT TRADE COMPANY \"ST.PETERSBURG\"LTD 191015 SAINT-PETERSBURG, SHPALERNAYA STREET, 51 RUSSIAN FEDERATION TEL +7 (812) 329-42-62 PASHKEVICHANNA', '\"MEAT TRADE COMPANY \"ST.PETERSBURG\"LTD 191015 SAINT-PETERSBURG, SHPALERNAYA STREET, 51 RUSSIAN FEDERATION TEL +7 (812) 329-42-62 PYLAEVA TATIANA', '\"NFC\" LTD GAPSALSKAYA STR., 5 198035 ST. PETERSBURG, RUSSIA TEL: +7 812 327 77 41  FAX: +7 812 327 77 29', '\"NFC\"LTD GAPSALSKAYA STR., 5 198035ST.PETERSBURG,RUSSIA TEL.+78123277741 FAX +78123277729', '\"NFC\" LTD GAPSALSKAYA STR., 5 198035 ST.PETERSBURG, RUSSIA TEL. +7 812327 77 41 FAX +7 812 327 77 29', '\"OCEAN WORLD\" LLC 198099 RUSSIA, ST.PETERSBURG KALININ STREET, 57, LIT.A, OF.307 LEDENEVA ELENA. TEL./FAX.+7-812-336-65-88', '\"OCEAN WORLD\" LLC KALININ STREET, 57, LIT. A, OFFICE 307, ST. PETERSBURG, RUSSIA, 198099 LEDENEVA ELENA.TEL./FAX.+7-812-336-65-88', '\"OCEAN WORLD\" LLC LIT A, OF 307, 57KALININ STREET ST PETERSBURG 198099, RUSSIA MERKOVA MARIYA TEL/FAX: +7-812-336-65-88', '\"OOO\" TECHNOLINE\" 191123,ST.-PETERSBURG,UL. FURSCHTATSKAYA 48,LITER A\"', '\"PARTNER\" LTD INN/KPP 7801080258/780101001 POM/1-N, HOUSE 1-2, 1-LINE;V. 0. , ST. PETERSBURG, 199053, RUSSIA TEL. : +7 812 600 20 22 FAX: +7 812 600 20 33', '\"PETERSBURG CHEMICAL COMPANY\" COMPANY LIMITED(<<PCC>>CO.,LTD.) 197374,RUSSIAN FEDERATION,SAINT PETERSBURG,TORFYANAYA ROAD, 7,LIT.F OFFICE 925.', '\"PO\"SVET \"LTD PODREZOVA STR.,16,LIT.A,ROOM 5-H 197136 SAINT-PETERSBURG,RUSSIA. ITN 7813445827 TEL:+7-812-716-21-76', '\"PRANT\" LLC 603159 RUSSIA, NIZHNY NOVGOROD AKIMOVA-STR. 41, SUITE 63 INN 5257120394 KPP 525701001 TEL/FAX. +7 (831) 423-45-33', '\"SERVICE-EXPRESS\" LTD 197110, RUSSIA, SAINT-PETERSBURG, GLUHAYA ZELENINA STREET,H.4, LIT B,OFFICE 19-H', '\"SHIP-MASTER DELTA\"LLC RIGSKY PR.,19,SAINT-PETERSBURG, 190103,RUSSIA TEL:+7(812)251-81-11; +7(812)575-33-38;+7(812)251-73-03 FAX: +7 (812) 575-33-40', '\"SILMET\" COMPANY LIMITED 196084, RUSSIA, ST.PETERSBURG, ZAOZERNAYA STR., 4. LETTER A, 9H. TEL /FAX: 7 812334 35 74', '\"STEP TRADE\" LLC KUBINSKAYA ST., 38, BUILDING A, ROOM 4-H,ST.PETERSBURG, 196247, RUSSIAN FEDERATION', '\"SUNTIRE\" CO. LTD, M. BALKANSKAYA STREET, 58, LIT.A 192289, ST.-PETERSBURG, RUSSIA', '\"SUNTIRE\" CO. LTD. TEL.: + 7 (812)458 54 38 E-MAIL: CLIENT@S-LOGISTIC.RU', '\"SUNTIRE\"CO.LTD M.BALKANSKAYA STREET,58,LIT.A 192289,ST.PETERSBURG,RUSSIA', '\"SUNTIRE\"CO.LTD TEL:+7(812)458 54 38 E-MAIL:CLIENT@S-LOGISTIC.RU', '\"TC \"\"UNOTRANS\"\" LTD\" \"190020 ST.PETERSBURG,\" \"BUMAZHNAYA STR.9, K.1,OFFICE 305\" \"TEL/FAX: +7 812 445 2843\"', '\"TC\"UNOTRANS\"LTD 190020 ST.PETERSBURG,BUMAZHNAYA STR.9,K.1,OFF.305 TEL/FAX:+7 812 445 28 43', '\"TC\"UNOTRANS\"LTD 190020 ST.PETERSBURG, BUMAZHNAYA STR.9,K.1,OFF.305 TEL/FAX:+7 812 445 28 43', '\"TC \"UNOTRANS\" LTD 190020 ST.PETERSBURG, BUMAZHNAYA STR.9, K.1, OFF. 305 TEL/FAX: +7 812 445 28 43']\n",
      "====================================================================================================\n",
      "['\"2TIGERS GROUP LIMITED\"  ROOM 504 JINSHAZHOU SHANGSHUI ROAD,  GUANGZHOU 510160']\n",
      "====================================================================================================\n",
      "['\"ALISA\" LTD, 1/5 Derbenevskaya str., Moscow, Russia Tel./Fax: (495) 987-13-07 postal code: 115114']\n",
      "====================================================================================================\n",
      "['\"AVENTA\"LTD. ADDRESS:129 110,MOSCOW,PROSPEKT MIRA,H.52,STR.3,POM,III Tel: 8-968-808-80-11']\n",
      "====================================================================================================\n",
      "['\"BIO plus LTD\" INN 7805166210 198303, S-Petersburg, Leninskiy Pr.,110/1, lit B, app.53-H, RUSSIA']\n",
      "====================================================================================================\n",
      "['\"COLOS\"COMPLEX LOGISTICS,SOLUTIONSPIOTR KACZMAREK I PAWEL WILK SP.J.ZACHODNIA STREET NO 3 55-011 SIECHNICE POLAND']\n",
      "====================================================================================================\n",
      "['\"ELEKTROAPPARAT\" PLC   24th LiniyaV.O.,St.Petersburg. Sup.office No.1of Kirovsky RUSSIA TEL: 0079-219646264']\n",
      "====================================================================================================\n",
      "['\"FILLOGISTIK\" PP ZHOVKIVSKA 22 STREET 79019 LVOV,UKRAINE TEL:+380322458030 FAX:+380322458030', '\"LTC SOLUTION OY\" FINLAND, HAMINA 49420, PILARITIE 2 ON BEHALF \"AETZ REKORD\" CO., LTD 2, GAGARINA STR., ALEXANDROV,--', '\"LTC SOLUTION OY\" FINLAND, HAMINA 49420, PILARITIE 2 TEL. +358 (0) 522-66-130 FAX: +358 (0) 522-66-120', '\"LTC SOLUTION OY\" FINLAND, HAMINA 49420, SYVASATAMANTIE 18 ON BEHALF \"AETZ REKORD\" CO., LTD--', '\"LTC SOLUTION OY\" FINLAND, HAMINA 49420, SYVASATAMANTIE 18 TEL. +358 (0) 522-66-130 FAX: +358 (0) 522-66-120']\n",
      "====================================================================================================\n",
      "['\"FORWARD EXPEDITION LIMITED HKG\" SUCCES COMM.BLDG.,6B,251, HENNESSY ROAD, HONGKONG ARRIVAL@FORWARD-HKG.COM']\n",
      "====================================================================================================\n",
      "['\"FRUITIMPEX\" LLC 121170, Moscow, Russia, Kulneva st, 3 bld. 1 INN 7737514219 KPP773001001']\n",
      "====================================================================================================\n",
      "['\"FRUITIMPEX\" LLC TEL. (495) 926-74-49']\n",
      "====================================================================================================\n",
      "['\"FT-LINE\"LLC RUSSIA 115230,MOSCOW,ELECTROLYTNIY PROEZD,3G/2 TEL:+79851607522']\n",
      "====================================================================================================\n",
      "['\"Goldens\" LLC']\n",
      "====================================================================================================\n",
      "['\"INTERLINK LTD SP ZOO UI.  POMORSKA50A 81-314 GDYNIA BIELSKA@INTERLINK.BIZ.PL SIEJKOWSKA@INTERLINK.BIZ.PL...+++']\n",
      "====================================================================================================\n",
      "['\"OMEGA TOYS GRUP\"CO.,LTD. AVTOZAVODSKAY STR.23,STRUCTURE 8 MOSCOW,RUSSIAN FEDERATION,P.O.X:115280 TEL/FAX:+7-495-674-60-62 TITARENKO ALEXANDR E-mail serinity-toys@mail.ru INN']\n",
      "====================================================================================================\n",
      "['\"OOO\" BALTIYSKIY EKSPEDITOR\" EUGENIY KOMRAKOV (812) 676-16-03\"']\n",
      "====================================================================================================\n",
      "['\"OTL\" LLC KOROTIN@OTLSPB.RU TEL: +7(812) 326-42-52 VIP 13171-1 ST.PETERSBURG']\n",
      "====================================================================================================\n",
      "['\"OY VAER LOG LTD\"  Y-TUNNUS:2066533-3  Adres: Merituulentie, 424  48310, Kotka  TEL: +358 5 21 21 33  Fax: +358 5 21 21 30  Vanhala Olga  Ershova Ekaterina']\n",
      "====================================================================================================\n",
      "['\"Rimal\" LTD \"Grazdansky prospect, 22.  St. Petersburg, 195220,  Russian Federation\"']\n",
      "====================================================================================================\n",
      "['\"SAME AS CONSIGNEE\"', '\"SAME AS CONSIGNEE\"  AS AGENT OF BLUE ANCHOR LINE']\n",
      "====================================================================================================\n",
      "['\"Spike Rus\" Limited Liability Company, The Yakovlevskyi per., H.8 a of. 5-n, 196105 S.Petersburg, Russia.TEL: 007-812-476-15-62 FAX: 007-812-476-15-62']\n",
      "====================================================================================================\n",
      "['\"STEVECO OY\" STEVECO LOGISTICS MERITUULENTIE 424 48310 KOTKA, FONLANDPIC: ANNE LEPPANEN']\n",
      "====================================================================================================\n",
      "['\"STUDIO MODERNA\" UL. PERERVA 54 109369 MOSCOW RUSSIA']\n",
      "====================================================================================================\n"
     ]
    }
   ],
   "source": [
    "clusters = cluster(text[:100], levenshtein_sim, 0.7, preprocess=True, reject_prc=10).values()\n",
    "for line in clusters:\n",
    "    print(line)\n",
    "    print(\"=\" * 100)"
   ]
  },
  {
   "cell_type": "markdown",
   "id": "6e6db6d8-a0c0-46f8-85f9-ac5167cbf64d",
   "metadata": {},
   "source": [
    "## Improvement ideas"
   ]
  },
  {
   "cell_type": "markdown",
   "id": "5e1103d2-7584-4a9d-aa4b-874602c5c082",
   "metadata": {},
   "source": [
    "1. Remove not only the most common words from the text, but also the most common words in English and punctuation marks. (stopwords from nltk library could be used)\n",
    "2. Words could be stemmed by Porter Stemmer 2 to avoid cases such as \"RUSSIA\" and \"RUSSIAN\" being seperate words.\n",
    "3. Change all letters to lowercase, which would improve the accuracy of metrics."
   ]
  }
 ],
 "metadata": {
  "kernelspec": {
   "display_name": "Python 3 (ipykernel)",
   "language": "python",
   "name": "python3"
  },
  "language_info": {
   "codemirror_mode": {
    "name": "ipython",
    "version": 3
   },
   "file_extension": ".py",
   "mimetype": "text/x-python",
   "name": "python",
   "nbconvert_exporter": "python",
   "pygments_lexer": "ipython3",
   "version": "3.9.7"
  }
 },
 "nbformat": 4,
 "nbformat_minor": 5
}
